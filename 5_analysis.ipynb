{
 "cells": [
  {
   "cell_type": "code",
   "execution_count": 49,
   "metadata": {},
   "outputs": [],
   "source": [
    "import torch\n",
    "import os\n",
    "import matplotlib.pyplot as plt\n",
    "import seaborn as sns\n",
    "\n",
    "sns.set_theme()\n",
    "\n",
    "os.environ['TOKENIZERS_PARALLELISM'] = 'true'\n",
    "\n",
    "device = torch.device(\"mps\" if torch.backends.mps.is_available() else \"cpu\")"
   ]
  },
  {
   "cell_type": "code",
   "execution_count": 50,
   "metadata": {},
   "outputs": [],
   "source": [
    "import pandas as pd\n",
    "\n",
    "df = pd.read_hdf('data/reddit_demo.h5', key='df')"
   ]
  },
  {
   "cell_type": "code",
   "execution_count": 51,
   "metadata": {},
   "outputs": [],
   "source": [
    "from datasets import Dataset\n",
    "ds = Dataset.from_dict({'text': df['text']})"
   ]
  },
  {
   "cell_type": "code",
   "execution_count": 52,
   "metadata": {},
   "outputs": [],
   "source": [
    "def dataloader(ds):\n",
    "  for item in ds:\n",
    "    yield item['text']"
   ]
  },
  {
   "attachments": {},
   "cell_type": "markdown",
   "metadata": {},
   "source": [
    "# Tone analysis\n",
    "\n",
    "Checking the tone of submissions"
   ]
  },
  {
   "cell_type": "code",
   "execution_count": 53,
   "metadata": {},
   "outputs": [
    {
     "name": "stderr",
     "output_type": "stream",
     "text": [
      "100%|██████████| 994/994 [00:23<00:00, 42.47it/s]\n"
     ]
    }
   ],
   "source": [
    "from transformers import pipeline\n",
    "from tqdm import tqdm\n",
    "\n",
    "tone_pipe = pipeline(\"sentiment-analysis\", \n",
    "  model=\"fine-tuning-final/tone\", \n",
    "  device=device,\n",
    "  max_length=512, \n",
    "  truncation=True\n",
    ")\n",
    "\n",
    "tone_labels = ['neutral', 'negative', 'positive']\n",
    "res_tone = []\n",
    "for res in tqdm(tone_pipe(dataloader(ds), top_k=len(tone_labels), batch_size=64), total=ds.num_rows):\n",
    "  res_sorted = sorted(res, key=lambda x: x['label'])\n",
    "  res_tone.append([x['score'] for x in res_sorted])\n",
    "\n",
    "df = df.join(pd.DataFrame(res_tone, columns=tone_labels))"
   ]
  },
  {
   "cell_type": "code",
   "execution_count": 68,
   "metadata": {},
   "outputs": [
    {
     "data": {
      "image/png": "[encoded data removed]",
      "text/plain": [
       "<Figure size 640x480 with 1 Axes>"
      ]
     },
     "metadata": {},
     "output_type": "display_data"
    }
   ],
   "source": [
    "fig, ax = plt.subplots()\n",
    "ax = df['tone'].value_counts().plot(kind='bar')\n",
    "\n",
    "plt.show()"
   ]
  },
  {
   "attachments": {},
   "cell_type": "markdown",
   "metadata": {},
   "source": [
    "# Emotion Analysis\n",
    "\n",
    "Checking the emotion of submissions"
   ]
  },
  {
   "cell_type": "code",
   "execution_count": 76,
   "metadata": {},
   "outputs": [
    {
     "data": {
      "text/plain": [
       "{'sequence': 'Cases of Covid are risiing!',\n",
       " 'labels': ['joy', 'love', 'anger', 'fear', 'surprise', 'sadness'],\n",
       " 'scores': [0.35965749621391296,\n",
       "  0.200651153922081,\n",
       "  0.11086635291576385,\n",
       "  0.11066596210002899,\n",
       "  0.10916738957166672,\n",
       "  0.10899163037538528]}"
      ]
     },
     "execution_count": 76,
     "metadata": {},
     "output_type": "execute_result"
    }
   ],
   "source": [
    "emotion_pipe('Cases of Covid are risiing!', top_k=len(emotion_labels), candidate_labels=emotion_labels)"
   ]
  },
  {
   "cell_type": "code",
   "execution_count": 74,
   "metadata": {},
   "outputs": [
    {
     "name": "stderr",
     "output_type": "stream",
     "text": [
      "Failed to determine 'entailment' label id from the label2id mapping in the model config. Setting to -1. Define a descriptive label2id mapping in the model config to ensure correct outputs.\n",
      "  0%|          | 0/994 [00:00<?, ?it/s]Asking to truncate to max_length but no maximum length is provided and the model has no predefined maximum length. Default to no truncation.\n",
      "  0%|          | 0/994 [00:04<?, ?it/s]\n"
     ]
    },
    {
     "ename": "TypeError",
     "evalue": "string indices must be integers, not 'str'",
     "output_type": "error",
     "traceback": [
      "\u001b[0;31m---------------------------------------------------------------------------\u001b[0m",
      "\u001b[0;31mTypeError\u001b[0m                                 Traceback (most recent call last)",
      "Cell \u001b[0;32mIn[74], line 12\u001b[0m\n\u001b[1;32m     10\u001b[0m res_tone \u001b[39m=\u001b[39m []\n\u001b[1;32m     11\u001b[0m \u001b[39mfor\u001b[39;00m res \u001b[39min\u001b[39;00m tqdm(emotion_pipe(dataloader(ds), top_k\u001b[39m=\u001b[39m\u001b[39mlen\u001b[39m(emotion_labels), batch_size\u001b[39m=\u001b[39m\u001b[39m64\u001b[39m, candidate_labels\u001b[39m=\u001b[39memotion_labels), total\u001b[39m=\u001b[39mds\u001b[39m.\u001b[39mnum_rows):\n\u001b[0;32m---> 12\u001b[0m   res_sorted \u001b[39m=\u001b[39m \u001b[39msorted\u001b[39;49m(res, key\u001b[39m=\u001b[39;49m\u001b[39mlambda\u001b[39;49;00m x: x[\u001b[39m'\u001b[39;49m\u001b[39mlabel\u001b[39;49m\u001b[39m'\u001b[39;49m])\n\u001b[1;32m     13\u001b[0m   res_tone\u001b[39m.\u001b[39mappend([x[\u001b[39m'\u001b[39m\u001b[39mscore\u001b[39m\u001b[39m'\u001b[39m] \u001b[39mfor\u001b[39;00m x \u001b[39min\u001b[39;00m res_sorted])\n\u001b[1;32m     15\u001b[0m df \u001b[39m=\u001b[39m df\u001b[39m.\u001b[39mjoin(pd\u001b[39m.\u001b[39mDataFrame(res_tone, columns\u001b[39m=\u001b[39memotion_labels))\n",
      "Cell \u001b[0;32mIn[74], line 12\u001b[0m, in \u001b[0;36m<lambda>\u001b[0;34m(x)\u001b[0m\n\u001b[1;32m     10\u001b[0m res_tone \u001b[39m=\u001b[39m []\n\u001b[1;32m     11\u001b[0m \u001b[39mfor\u001b[39;00m res \u001b[39min\u001b[39;00m tqdm(emotion_pipe(dataloader(ds), top_k\u001b[39m=\u001b[39m\u001b[39mlen\u001b[39m(emotion_labels), batch_size\u001b[39m=\u001b[39m\u001b[39m64\u001b[39m, candidate_labels\u001b[39m=\u001b[39memotion_labels), total\u001b[39m=\u001b[39mds\u001b[39m.\u001b[39mnum_rows):\n\u001b[0;32m---> 12\u001b[0m   res_sorted \u001b[39m=\u001b[39m \u001b[39msorted\u001b[39m(res, key\u001b[39m=\u001b[39m\u001b[39mlambda\u001b[39;00m x: x[\u001b[39m'\u001b[39;49m\u001b[39mlabel\u001b[39;49m\u001b[39m'\u001b[39;49m])\n\u001b[1;32m     13\u001b[0m   res_tone\u001b[39m.\u001b[39mappend([x[\u001b[39m'\u001b[39m\u001b[39mscore\u001b[39m\u001b[39m'\u001b[39m] \u001b[39mfor\u001b[39;00m x \u001b[39min\u001b[39;00m res_sorted])\n\u001b[1;32m     15\u001b[0m df \u001b[39m=\u001b[39m df\u001b[39m.\u001b[39mjoin(pd\u001b[39m.\u001b[39mDataFrame(res_tone, columns\u001b[39m=\u001b[39memotion_labels))\n",
      "\u001b[0;31mTypeError\u001b[0m: string indices must be integers, not 'str'"
     ]
    }
   ],
   "source": [
    "emotion_pipe = pipeline(\"zero-shot-classification\", \n",
    "  model=\"fine-tuning-final/emotion\", \n",
    "  device=device,\n",
    "  max_length=512,\n",
    "  truncation=True\n",
    ")\n",
    "\n",
    "emotion_labels = ['sadness', 'joy', 'love', 'anger', 'fear', 'surprise']\n",
    "\n",
    "res_emotion = []\n",
    "for res in tqdm(emotion_pipe(dataloader(ds), top_k=len(emotion_labels), batch_size=64, candidate_labels=emotion_labels), total=ds.num_rows):\n",
    "  res_list = []\n",
    "  for label, score in zip(res['labels'], res['scores']):\n",
    "    res_list.append({'label': label, 'score': score})\n",
    "  res_sorted = sorted(res_list, key=lambda x: x['label'])\n",
    "  res_emotion.append([x['score'] for x in res_sorted])\n",
    "\n",
    "df = df.join(pd.DataFrame(res_emotion, columns=emotion_labels))"
   ]
  },
  {
   "cell_type": "code",
   "execution_count": 48,
   "metadata": {},
   "outputs": [],
   "source": [
    "emotion_tokenizer, emotion_config, emotion_model = init_model(\"bhadresh-savani/distilbert-base-uncased-emotion\")\n"
   ]
  },
  {
   "cell_type": "code",
   "execution_count": 49,
   "metadata": {},
   "outputs": [
    {
     "data": {
      "text/plain": [
       "{'sadness': 0.011512363,\n",
       " 'joy': 0.87378883,\n",
       " 'love': 0.0020575349,\n",
       " 'anger': 0.08232189,\n",
       " 'fear': 0.026589878,\n",
       " 'surprise': 0.0037294633}"
      ]
     },
     "execution_count": 49,
     "metadata": {},
     "output_type": "execute_result"
    }
   ],
   "source": [
    "from scipy.special import softmax\n",
    "import numpy as np\n",
    "\n",
    "emotion_labels = ['sadness', 'joy', 'love', 'anger', 'fear', 'surprise']\n",
    "\n",
    "def emotion_analysis(text: str):\n",
    "  encoded_input = emotion_tokenizer(text, max_length=512, truncation=True, return_tensors='pt').to(device)\n",
    "  output = emotion_model(**encoded_input)\n",
    "  scores = output[0][0].detach().cpu().numpy()\n",
    "  scores = softmax(scores)\n",
    "\n",
    "  ranking = np.argsort(scores)\n",
    "  ranking = ranking[::-1]\n",
    "\n",
    "  output = {k: 0.0 for k in emotion_labels}\n",
    "\n",
    "  for i in range(scores.shape[0]):\n",
    "      k = emotion_config.id2label[ranking[i]]\n",
    "      output[k] = scores[ranking[i]]\n",
    "  \n",
    "  return output\n",
    "\n",
    "emotion_analysis(\"Covid cases are increasing fast!\")"
   ]
  },
  {
   "cell_type": "code",
   "execution_count": 85,
   "metadata": {},
   "outputs": [],
   "source": [
    "for k in emotion_labels:\n",
    "    df[k] = 0.0"
   ]
  },
  {
   "cell_type": "code",
   "execution_count": 86,
   "metadata": {},
   "outputs": [],
   "source": [
    "for id in tqdm(df.index):\n",
    "    text = preprocess_text(df.loc[id])\n",
    "    output = emotion_analysis(text)\n",
    "    for k in emotion_labels:\n",
    "        df.at[id, k] = output[k]"
   ]
  },
  {
   "cell_type": "code",
   "execution_count": 87,
   "metadata": {},
   "outputs": [],
   "source": [
    "df['emotion'] = df[emotion_labels].idxmax(axis=1)"
   ]
  },
  {
   "cell_type": "code",
   "execution_count": 88,
   "metadata": {},
   "outputs": [
    {
     "data": {
      "image/png": "[encoded data removed]",
      "text/plain": [
       "<Figure size 640x480 with 1 Axes>"
      ]
     },
     "metadata": {},
     "output_type": "display_data"
    }
   ],
   "source": [
    "fig, ax = plt.subplots()\n",
    "ax = df['emotion'].value_counts().plot(kind='bar')\n",
    "\n",
    "plt.show()"
   ]
  },
  {
   "cell_type": "code",
   "execution_count": 89,
   "metadata": {},
   "outputs": [
    {
     "name": "stderr",
     "output_type": "stream",
     "text": [
      "/var/folders/lk/lhmn07j501l6rng06tjrl8cm0000gn/T/ipykernel_73820/4011226189.py:1: PerformanceWarning: \n",
      "your performance may suffer as PyTables will pickle object types that it cannot\n",
      "map directly to c-types [inferred_type->mixed,key->block3_values] [items->Index(['all_awardings', 'author', 'id', 'likes', 'media', 'media_embed',\n",
      "       'permalink', 'title', 'selftext', 'view_count', 'tone', 'emotion'],\n",
      "      dtype='object')]\n",
      "\n",
      "  df.to_hdf('data/reddit_process3.h5', key='df', mode='w')\n"
     ]
    }
   ],
   "source": [
    "df.to_hdf('data/reddit_process3.h5', key='df', mode='w')\n",
    "df.to_csv('data/reddit_process3.csv', encoding='utf-8-sig')"
   ]
  },
  {
   "attachments": {},
   "cell_type": "markdown",
   "metadata": {},
   "source": [
    "# Zero-shot classification\n",
    "\n",
    "Classification of submissions based on certain categories"
   ]
  },
  {
   "cell_type": "code",
   "execution_count": null,
   "metadata": {},
   "outputs": [],
   "source": [
    "from transformers import AutoModelForSequenceClassification\n",
    "from transformers import AutoTokenizer, AutoConfig\n",
    "\n",
    "def init_model(model_path: str):\n",
    "    tokenizer = AutoTokenizer.from_pretrained(model_path, use_fast=True)\n",
    "    config = AutoConfig.from_pretrained(model_path)\n",
    "    model = AutoModelForSequenceClassification.from_pretrained(model_path).to(device)\n",
    "\n",
    "    return (tokenizer, config, model)"
   ]
  },
  {
   "cell_type": "code",
   "execution_count": 81,
   "metadata": {},
   "outputs": [
    {
     "name": "stderr",
     "output_type": "stream",
     "text": [
      "Some weights of RobertaForSequenceClassification were not initialized from the model checkpoint at fine-tuning-final/theme and are newly initialized because the shapes did not match:\n",
      "- classifier.out_proj.weight: found shape torch.Size([3, 768]) in the checkpoint and torch.Size([7, 768]) in the model instantiated\n",
      "- classifier.out_proj.bias: found shape torch.Size([3]) in the checkpoint and torch.Size([7]) in the model instantiated\n",
      "You should probably TRAIN this model on a down-stream task to be able to use it for predictions and inference.\n"
     ]
    },
    {
     "ename": "Exception",
     "evalue": "Impossible to guess which tokenizer to use. Please provide a PreTrainedTokenizer class or a path/identifier to a pretrained tokenizer.",
     "output_type": "error",
     "traceback": [
      "\u001b[0;31m---------------------------------------------------------------------------\u001b[0m",
      "\u001b[0;31mException\u001b[0m                                 Traceback (most recent call last)",
      "Cell \u001b[0;32mIn[81], line 12\u001b[0m\n\u001b[1;32m      3\u001b[0m label2id \u001b[39m=\u001b[39m {k: i \u001b[39mfor\u001b[39;00m i, k \u001b[39min\u001b[39;00m \u001b[39menumerate\u001b[39m(theme_labels)}\n\u001b[1;32m      5\u001b[0m theme_model \u001b[39m=\u001b[39m AutoModelForSequenceClassification\u001b[39m.\u001b[39mfrom_pretrained(\u001b[39m\"\u001b[39m\u001b[39mfine-tuning-final/theme\u001b[39m\u001b[39m\"\u001b[39m,\n\u001b[1;32m      6\u001b[0m   num_labels\u001b[39m=\u001b[39m\u001b[39mlen\u001b[39m(theme_labels),\n\u001b[1;32m      7\u001b[0m   id2label\u001b[39m=\u001b[39mid2label,\n\u001b[1;32m      8\u001b[0m   label2id\u001b[39m=\u001b[39mlabel2id,\n\u001b[1;32m      9\u001b[0m   ignore_mismatched_sizes\u001b[39m=\u001b[39m\u001b[39mTrue\u001b[39;00m\n\u001b[1;32m     10\u001b[0m )\n\u001b[0;32m---> 12\u001b[0m theme_pipe \u001b[39m=\u001b[39m pipeline(\u001b[39m\"\u001b[39;49m\u001b[39mzero-shot-classification\u001b[39;49m\u001b[39m\"\u001b[39;49m, \n\u001b[1;32m     13\u001b[0m   model\u001b[39m=\u001b[39;49mtheme_model, \n\u001b[1;32m     14\u001b[0m   device\u001b[39m=\u001b[39;49mdevice,\n\u001b[1;32m     15\u001b[0m   max_length\u001b[39m=\u001b[39;49m\u001b[39m512\u001b[39;49m,\n\u001b[1;32m     16\u001b[0m   truncation\u001b[39m=\u001b[39;49m\u001b[39mTrue\u001b[39;49;00m\n\u001b[1;32m     17\u001b[0m )\n\u001b[1;32m     19\u001b[0m res_theme \u001b[39m=\u001b[39m []\n\u001b[1;32m     20\u001b[0m \u001b[39mfor\u001b[39;00m res \u001b[39min\u001b[39;00m tqdm(theme_pipe(dataloader(ds), top_k\u001b[39m=\u001b[39m\u001b[39mlen\u001b[39m(theme_labels), batch_size\u001b[39m=\u001b[39m\u001b[39m64\u001b[39m, candidate_labels\u001b[39m=\u001b[39mtheme_labels), total\u001b[39m=\u001b[39mds\u001b[39m.\u001b[39mnum_rows):\n",
      "File \u001b[0;32m~/.local/share/virtualenvs/fusion_analysis-xH46poxW/lib/python3.11/site-packages/transformers/pipelines/__init__.py:868\u001b[0m, in \u001b[0;36mpipeline\u001b[0;34m(task, model, config, tokenizer, feature_extractor, image_processor, framework, revision, use_fast, use_auth_token, device, device_map, torch_dtype, trust_remote_code, model_kwargs, pipeline_class, **kwargs)\u001b[0m\n\u001b[1;32m    865\u001b[0m         tokenizer \u001b[39m=\u001b[39m config\n\u001b[1;32m    866\u001b[0m     \u001b[39melse\u001b[39;00m:\n\u001b[1;32m    867\u001b[0m         \u001b[39m# Impossible to guess what is the right tokenizer here\u001b[39;00m\n\u001b[0;32m--> 868\u001b[0m         \u001b[39mraise\u001b[39;00m \u001b[39mException\u001b[39;00m(\n\u001b[1;32m    869\u001b[0m             \u001b[39m\"\u001b[39m\u001b[39mImpossible to guess which tokenizer to use. \u001b[39m\u001b[39m\"\u001b[39m\n\u001b[1;32m    870\u001b[0m             \u001b[39m\"\u001b[39m\u001b[39mPlease provide a PreTrainedTokenizer class or a path/identifier to a pretrained tokenizer.\u001b[39m\u001b[39m\"\u001b[39m\n\u001b[1;32m    871\u001b[0m         )\n\u001b[1;32m    873\u001b[0m \u001b[39m# Instantiate tokenizer if needed\u001b[39;00m\n\u001b[1;32m    874\u001b[0m \u001b[39mif\u001b[39;00m \u001b[39misinstance\u001b[39m(tokenizer, (\u001b[39mstr\u001b[39m, \u001b[39mtuple\u001b[39m)):\n",
      "\u001b[0;31mException\u001b[0m: Impossible to guess which tokenizer to use. Please provide a PreTrainedTokenizer class or a path/identifier to a pretrained tokenizer."
     ]
    }
   ],
   "source": [
    "theme_labels = ['clinical update', 'community', 'question', 'education', 'advocating', 'dissuading', 'other']\n",
    "id2label = {i: k for i, k in enumerate(theme_labels)}\n",
    "label2id = {k: i for i, k in enumerate(theme_labels)}\n",
    "\n",
    "theme_model = AutoModelForSequenceClassification.from_pretrained(\"fine-tuning-final/theme\",\n",
    "  num_labels=len(theme_labels),\n",
    "  id2label=id2label,\n",
    "  label2id=label2id,\n",
    "  ignore_mismatched_sizes=True\n",
    ")\n",
    "\n",
    "theme_tokenizer = AutoTokenizer.from_pretrained(\"facebook/bart-large-mnli\", use_fast=True)\n",
    "\n",
    "theme_pipe = pipeline(\"zero-shot-classification\", \n",
    "  model=theme_model,\n",
    "  tokenizer=theme_tokenizer,\n",
    "  device=device,\n",
    "  max_length=512,\n",
    "  truncation=True\n",
    ")\n",
    "\n",
    "res_theme = []\n",
    "for res in tqdm(theme_pipe(dataloader(ds), top_k=len(theme_labels), batch_size=64, candidate_labels=theme_labels), total=ds.num_rows):\n",
    "  res_sorted = sorted(res, key=lambda x: x['label'])\n",
    "  res_theme.append([x['score'] for x in res_sorted])\n",
    "\n",
    "df = df.join(pd.DataFrame(res_theme, columns=theme_labels))"
   ]
  },
  {
   "cell_type": "code",
   "execution_count": 52,
   "metadata": {},
   "outputs": [
    {
     "data": {
      "text/plain": [
       "{'clinical update': 0.35969823598861694,\n",
       " 'community': 0.13439318537712097,\n",
       " 'question': 0.19896970689296722,\n",
       " 'education': 0.005827188026160002,\n",
       " 'advocating': 0.11842522770166397,\n",
       " 'dissuading': 0.1468779295682907,\n",
       " 'other': 0.035808514803647995}"
      ]
     },
     "execution_count": 52,
     "metadata": {},
     "output_type": "execute_result"
    }
   ],
   "source": [
    "theme_labels = ['clinical update', 'community', 'question', 'education', 'advocating', 'dissuading', 'other']\n",
    "\n",
    "def theme_analysis(text: str, multi_label=False):\n",
    "  res = zs_classifier(text, theme_labels, multi_label=multi_label)\n",
    "\n",
    "  output = {k: 0.0 for k in theme_labels}\n",
    "\n",
    "  for k, score in zip(res['labels'], res['scores']):\n",
    "      output[k] = score\n",
    "  \n",
    "  return output\n",
    "\n",
    "theme_analysis(\"Covid cases are increasing fast!\")"
   ]
  },
  {
   "cell_type": "code",
   "execution_count": 7,
   "metadata": {},
   "outputs": [],
   "source": [
    "for k in theme_labels:\n",
    "    df[k] = 0.0"
   ]
  },
  {
   "cell_type": "code",
   "execution_count": 8,
   "metadata": {},
   "outputs": [
    {
     "name": "stderr",
     "output_type": "stream",
     "text": [
      "100%|██████████| 994/994 [38:51<00:00,  2.35s/it]  \n"
     ]
    }
   ],
   "source": [
    "for id in tqdm(df.index):\n",
    "    text = preprocess_text(df.loc[id])\n",
    "    output = theme_analysis(text)\n",
    "    for k in theme_labels:\n",
    "        df.at[id, k] = output[k]"
   ]
  },
  {
   "cell_type": "code",
   "execution_count": 9,
   "metadata": {},
   "outputs": [],
   "source": [
    "df['theme'] = df[theme_labels].idxmax(axis=1)"
   ]
  },
  {
   "cell_type": "code",
   "execution_count": 12,
   "metadata": {},
   "outputs": [
    {
     "data": {
      "image/png": "[encoded data removed]",
      "text/plain": [
       "<Figure size 640x480 with 1 Axes>"
      ]
     },
     "metadata": {},
     "output_type": "display_data"
    }
   ],
   "source": [
    "fig, ax = plt.subplots()\n",
    "ax = df['theme'].value_counts().plot(kind='bar')\n",
    "\n",
    "plt.show()"
   ]
  },
  {
   "cell_type": "code",
   "execution_count": 13,
   "metadata": {},
   "outputs": [
    {
     "name": "stderr",
     "output_type": "stream",
     "text": [
      "/var/folders/lk/lhmn07j501l6rng06tjrl8cm0000gn/T/ipykernel_87719/2136159091.py:1: PerformanceWarning: \n",
      "your performance may suffer as PyTables will pickle object types that it cannot\n",
      "map directly to c-types [inferred_type->mixed,key->block3_values] [items->Index(['all_awardings', 'author', 'id', 'likes', 'media', 'media_embed',\n",
      "       'permalink', 'title', 'selftext', 'view_count', 'tone', 'emotion',\n",
      "       'theme'],\n",
      "      dtype='object')]\n",
      "\n",
      "  df.to_hdf('data/reddit_process4_2.h5', key='df', mode='w')\n"
     ]
    }
   ],
   "source": [
    "df.to_hdf('data/reddit_process4_2.h5', key='df', mode='w')\n",
    "df.to_csv('data/reddit_process4_2.csv', encoding='utf-8-sig')"
   ]
  },
  {
   "attachments": {},
   "cell_type": "markdown",
   "metadata": {},
   "source": [
    "# Natural Language Inference (NLI)\n",
    "\n",
    "In NLI the model determines the relationship between two given texts. Concretely, the model takes a premise and a hypothesis and returns a class that can either be:\n",
    "\n",
    "- **entailment**, which means the hypothesis is true.\n",
    "- **contraction**, which means the hypothesis is false.\n",
    "- **neutral**, which means there's no relation between the hypothesis and the premise.\n",
    "\n",
    "### Multi-Genre NLI (MNLI)\n",
    "\n",
    "```\n",
    "Example 1:\n",
    "    Premise: A man inspects the uniform of a figure in some East Asian country.\n",
    "    Hypothesis: The man is sleeping.\n",
    "    Label: Contradiction\n",
    "\n",
    "Example 2:\n",
    "    Premise: Soccer game with multiple males playing.\n",
    "    Hypothesis: Some men are playing a sport.\n",
    "    Label: Entailment\n",
    "```"
   ]
  },
  {
   "cell_type": "code",
   "execution_count": 130,
   "metadata": {},
   "outputs": [
    {
     "data": {
      "text/html": [
       "<div>\n",
       "<style scoped>\n",
       "    .dataframe tbody tr th:only-of-type {\n",
       "        vertical-align: middle;\n",
       "    }\n",
       "\n",
       "    .dataframe tbody tr th {\n",
       "        vertical-align: top;\n",
       "    }\n",
       "\n",
       "    .dataframe thead th {\n",
       "        text-align: right;\n",
       "    }\n",
       "</style>\n",
       "<table border=\"1\" class=\"dataframe\">\n",
       "  <thead>\n",
       "    <tr style=\"text-align: right;\">\n",
       "      <th></th>\n",
       "      <th>title</th>\n",
       "      <th>media</th>\n",
       "      <th>media_embed</th>\n",
       "    </tr>\n",
       "  </thead>\n",
       "  <tbody>\n",
       "    <tr>\n",
       "      <th>3</th>\n",
       "      <td>1 week post-op t5-l4 fusion! Looking for some ...</td>\n",
       "      <td>None</td>\n",
       "      <td>{}</td>\n",
       "    </tr>\n",
       "    <tr>\n",
       "      <th>7</th>\n",
       "      <td>I posted the other day about new shooting leg ...</td>\n",
       "      <td>None</td>\n",
       "      <td>{}</td>\n",
       "    </tr>\n",
       "    <tr>\n",
       "      <th>14</th>\n",
       "      <td>Anybody else get an infection and how did yall...</td>\n",
       "      <td>None</td>\n",
       "      <td>{}</td>\n",
       "    </tr>\n",
       "    <tr>\n",
       "      <th>23</th>\n",
       "      <td>6 weeks post ALIF 360 and on Thursday evening ...</td>\n",
       "      <td>None</td>\n",
       "      <td>{}</td>\n",
       "    </tr>\n",
       "    <tr>\n",
       "      <th>28</th>\n",
       "      <td>10 weeks out from L5 S1. Lifted around 8 pound...</td>\n",
       "      <td>None</td>\n",
       "      <td>{}</td>\n",
       "    </tr>\n",
       "    <tr>\n",
       "      <th>...</th>\n",
       "      <td>...</td>\n",
       "      <td>...</td>\n",
       "      <td>...</td>\n",
       "    </tr>\n",
       "    <tr>\n",
       "      <th>968</th>\n",
       "      <td>1 year post op and still struggling to lose th...</td>\n",
       "      <td>None</td>\n",
       "      <td>{}</td>\n",
       "    </tr>\n",
       "    <tr>\n",
       "      <th>969</th>\n",
       "      <td>Anyone have an acdf c5 - 7 to treat cervical m...</td>\n",
       "      <td>None</td>\n",
       "      <td>{}</td>\n",
       "    </tr>\n",
       "    <tr>\n",
       "      <th>976</th>\n",
       "      <td>Having my 3rd surgery Wednesday. Wish me luck…</td>\n",
       "      <td>None</td>\n",
       "      <td>{}</td>\n",
       "    </tr>\n",
       "    <tr>\n",
       "      <th>982</th>\n",
       "      <td>Three week follow up</td>\n",
       "      <td>None</td>\n",
       "      <td>{}</td>\n",
       "    </tr>\n",
       "    <tr>\n",
       "      <th>987</th>\n",
       "      <td>I'm 21 had my fusion almost a year ago whats t...</td>\n",
       "      <td>None</td>\n",
       "      <td>{}</td>\n",
       "    </tr>\n",
       "  </tbody>\n",
       "</table>\n",
       "<p>134 rows × 3 columns</p>\n",
       "</div>"
      ],
      "text/plain": [
       "                                                 title media media_embed\n",
       "3    1 week post-op t5-l4 fusion! Looking for some ...  None          {}\n",
       "7    I posted the other day about new shooting leg ...  None          {}\n",
       "14   Anybody else get an infection and how did yall...  None          {}\n",
       "23   6 weeks post ALIF 360 and on Thursday evening ...  None          {}\n",
       "28   10 weeks out from L5 S1. Lifted around 8 pound...  None          {}\n",
       "..                                                 ...   ...         ...\n",
       "968  1 year post op and still struggling to lose th...  None          {}\n",
       "969  Anyone have an acdf c5 - 7 to treat cervical m...  None          {}\n",
       "976     Having my 3rd surgery Wednesday. Wish me luck…  None          {}\n",
       "982                               Three week follow up  None          {}\n",
       "987  I'm 21 had my fusion almost a year ago whats t...  None          {}\n",
       "\n",
       "[134 rows x 3 columns]"
      ]
     },
     "execution_count": 130,
     "metadata": {},
     "output_type": "execute_result"
    }
   ],
   "source": [
    "df.loc[df['selftext'] == '', ['title', 'media', 'media_embed']]"
   ]
  },
  {
   "attachments": {},
   "cell_type": "markdown",
   "metadata": {},
   "source": [
    "# Fine-tuning the models\n",
    "\n",
    "Pulling manual data classification and placing it into train-validate datasets"
   ]
  },
  {
   "cell_type": "code",
   "execution_count": 206,
   "metadata": {},
   "outputs": [],
   "source": [
    "import pandas as pd\n",
    "\n",
    "df_chi = pd.read_csv('data/chi.csv')"
   ]
  },
  {
   "cell_type": "code",
   "execution_count": 207,
   "metadata": {},
   "outputs": [],
   "source": [
    "tone_labels = ['negative', 'neutral', 'positive']\n",
    "emotion_labels = ['sadness', 'joy', 'love', 'anger', 'fear', 'surprise']\n",
    "theme_labels = ['clinical update', 'community', 'question', 'education', 'advocating', 'dissuading', 'other']"
   ]
  },
  {
   "cell_type": "code",
   "execution_count": 208,
   "metadata": {},
   "outputs": [
    {
     "data": {
      "text/html": [
       "<div>\n",
       "<style scoped>\n",
       "    .dataframe tbody tr th:only-of-type {\n",
       "        vertical-align: middle;\n",
       "    }\n",
       "\n",
       "    .dataframe tbody tr th {\n",
       "        vertical-align: top;\n",
       "    }\n",
       "\n",
       "    .dataframe thead th {\n",
       "        text-align: right;\n",
       "    }\n",
       "</style>\n",
       "<table border=\"1\" class=\"dataframe\">\n",
       "  <thead>\n",
       "    <tr style=\"text-align: right;\">\n",
       "      <th></th>\n",
       "      <th>negative</th>\n",
       "      <th>neutral</th>\n",
       "      <th>positive</th>\n",
       "      <th>sadness</th>\n",
       "      <th>joy</th>\n",
       "      <th>love</th>\n",
       "      <th>anger</th>\n",
       "      <th>fear</th>\n",
       "      <th>surprise</th>\n",
       "      <th>clinical update</th>\n",
       "      <th>community</th>\n",
       "      <th>question</th>\n",
       "      <th>education</th>\n",
       "      <th>advocating</th>\n",
       "      <th>dissuading</th>\n",
       "      <th>other</th>\n",
       "    </tr>\n",
       "  </thead>\n",
       "  <tbody>\n",
       "    <tr>\n",
       "      <th>0</th>\n",
       "      <td>negative</td>\n",
       "      <td>neutral</td>\n",
       "      <td>positive</td>\n",
       "      <td>sadness</td>\n",
       "      <td>joy</td>\n",
       "      <td>love</td>\n",
       "      <td>anger</td>\n",
       "      <td>fear</td>\n",
       "      <td>surprise</td>\n",
       "      <td>clinical update</td>\n",
       "      <td>community</td>\n",
       "      <td>question</td>\n",
       "      <td>education</td>\n",
       "      <td>advocating</td>\n",
       "      <td>dissuading</td>\n",
       "      <td>other</td>\n",
       "    </tr>\n",
       "    <tr>\n",
       "      <th>1</th>\n",
       "      <td>negative</td>\n",
       "      <td>neutral</td>\n",
       "      <td>positive</td>\n",
       "      <td>sadness</td>\n",
       "      <td>joy</td>\n",
       "      <td>love</td>\n",
       "      <td>anger</td>\n",
       "      <td>fear</td>\n",
       "      <td>surprise</td>\n",
       "      <td>clinical update</td>\n",
       "      <td>community</td>\n",
       "      <td>question</td>\n",
       "      <td>education</td>\n",
       "      <td>advocating</td>\n",
       "      <td>dissuading</td>\n",
       "      <td>other</td>\n",
       "    </tr>\n",
       "    <tr>\n",
       "      <th>2</th>\n",
       "      <td>negative</td>\n",
       "      <td>neutral</td>\n",
       "      <td>positive</td>\n",
       "      <td>sadness</td>\n",
       "      <td>joy</td>\n",
       "      <td>love</td>\n",
       "      <td>anger</td>\n",
       "      <td>fear</td>\n",
       "      <td>surprise</td>\n",
       "      <td>clinical update</td>\n",
       "      <td>community</td>\n",
       "      <td>question</td>\n",
       "      <td>education</td>\n",
       "      <td>advocating</td>\n",
       "      <td>dissuading</td>\n",
       "      <td>other</td>\n",
       "    </tr>\n",
       "    <tr>\n",
       "      <th>3</th>\n",
       "      <td>negative</td>\n",
       "      <td>neutral</td>\n",
       "      <td>positive</td>\n",
       "      <td>sadness</td>\n",
       "      <td>joy</td>\n",
       "      <td>love</td>\n",
       "      <td>anger</td>\n",
       "      <td>fear</td>\n",
       "      <td>surprise</td>\n",
       "      <td>clinical update</td>\n",
       "      <td>community</td>\n",
       "      <td>question</td>\n",
       "      <td>education</td>\n",
       "      <td>advocating</td>\n",
       "      <td>dissuading</td>\n",
       "      <td>other</td>\n",
       "    </tr>\n",
       "    <tr>\n",
       "      <th>4</th>\n",
       "      <td>negative</td>\n",
       "      <td>neutral</td>\n",
       "      <td>positive</td>\n",
       "      <td>sadness</td>\n",
       "      <td>joy</td>\n",
       "      <td>love</td>\n",
       "      <td>anger</td>\n",
       "      <td>fear</td>\n",
       "      <td>surprise</td>\n",
       "      <td>clinical update</td>\n",
       "      <td>community</td>\n",
       "      <td>question</td>\n",
       "      <td>education</td>\n",
       "      <td>advocating</td>\n",
       "      <td>dissuading</td>\n",
       "      <td>other</td>\n",
       "    </tr>\n",
       "  </tbody>\n",
       "</table>\n",
       "</div>"
      ],
      "text/plain": [
       "   negative  neutral  positive  sadness  joy  love  anger  fear  surprise  \\\n",
       "0  negative  neutral  positive  sadness  joy  love  anger  fear  surprise   \n",
       "1  negative  neutral  positive  sadness  joy  love  anger  fear  surprise   \n",
       "2  negative  neutral  positive  sadness  joy  love  anger  fear  surprise   \n",
       "3  negative  neutral  positive  sadness  joy  love  anger  fear  surprise   \n",
       "4  negative  neutral  positive  sadness  joy  love  anger  fear  surprise   \n",
       "\n",
       "   clinical update  community  question  education  advocating  dissuading  \\\n",
       "0  clinical update  community  question  education  advocating  dissuading   \n",
       "1  clinical update  community  question  education  advocating  dissuading   \n",
       "2  clinical update  community  question  education  advocating  dissuading   \n",
       "3  clinical update  community  question  education  advocating  dissuading   \n",
       "4  clinical update  community  question  education  advocating  dissuading   \n",
       "\n",
       "   other  \n",
       "0  other  \n",
       "1  other  \n",
       "2  other  \n",
       "3  other  \n",
       "4  other  "
      ]
     },
     "execution_count": 208,
     "metadata": {},
     "output_type": "execute_result"
    }
   ],
   "source": [
    "df_chi.loc[:, tone_labels + emotion_labels + theme_labels].head()"
   ]
  },
  {
   "cell_type": "code",
   "execution_count": 209,
   "metadata": {},
   "outputs": [
    {
     "data": {
      "text/plain": [
       "(26, 35)"
      ]
     },
     "execution_count": 209,
     "metadata": {},
     "output_type": "execute_result"
    }
   ],
   "source": [
    "df_manual = df_chi.loc[~df_chi.loc[:, 'negative'].str.startswith('0.')]\n",
    "df_manual.shape"
   ]
  },
  {
   "cell_type": "code",
   "execution_count": 210,
   "metadata": {},
   "outputs": [],
   "source": [
    "df_manual.loc[:,'selftext'] = df_manual.loc[:,'selftext'].fillna('')"
   ]
  },
  {
   "cell_type": "code",
   "execution_count": 211,
   "metadata": {},
   "outputs": [],
   "source": [
    "# df_manual['text'] = df_manual.apply(lambda x: '\\n'.join([str(x['title']), str(x['selftext'])]), axis=1)"
   ]
  },
  {
   "cell_type": "code",
   "execution_count": 212,
   "metadata": {},
   "outputs": [],
   "source": [
    "from sklearn.model_selection import train_test_split\n",
    "\n",
    "def train_test_val_split(df, train_size, val_size, test_size, random_state=42):\n",
    "    \"\"\"\n",
    "    Splits a pandas dataframe into training, validation, and test sets.\n",
    "\n",
    "    Args:\n",
    "    - df: pandas dataframe to split.\n",
    "    - train_size: float between 0 and 1 indicating the proportion of the dataframe to include in the training set.\n",
    "    - val_size: float between 0 and 1 indicating the proportion of the dataframe to include in the validation set.\n",
    "    - test_size: float between 0 and 1 indicating the proportion of the dataframe to include in the test set.\n",
    "    - random_state: int or None, optional (default=42). The seed used by the random number generator.\n",
    "\n",
    "    Returns:\n",
    "    - train_df: pandas dataframe containing the training set.\n",
    "    - val_df: pandas dataframe containing the validation set.\n",
    "    - test_df: pandas dataframe containing the test set.\n",
    "\n",
    "    Raises:\n",
    "    - AssertionError: if the sum of train_size, val_size, and test_size is not equal to 1.\n",
    "    \"\"\"\n",
    "\n",
    "    assert train_size + val_size + test_size == 1, \"Train, validation, and test sizes must add up to 1.\"\n",
    "    \n",
    "    # Split the dataframe into training and test sets\n",
    "    train_df, test_df = train_test_split(df, test_size=test_size, random_state=random_state)\n",
    "    \n",
    "    # Calculate the size of the validation set relative to the original dataframe\n",
    "    val_ratio = val_size / (1 - test_size)\n",
    "    \n",
    "    # Split the training set into training and validation sets\n",
    "    train_df, val_df = train_test_split(train_df, test_size=val_ratio, random_state=random_state)\n",
    "    \n",
    "    return train_df, val_df, test_df"
   ]
  },
  {
   "cell_type": "code",
   "execution_count": 213,
   "metadata": {},
   "outputs": [],
   "source": [
    "cols = ['id', 'created_utc', 'author', 'title', 'selftext', 'tone', 'emotion', 'theme']\n",
    "train_df, val_df, test_df = train_test_val_split(df_manual.loc[:, cols], 0.8, 0.1, 0.1)"
   ]
  },
  {
   "cell_type": "code",
   "execution_count": 214,
   "metadata": {},
   "outputs": [],
   "source": [
    "\n",
    "manual_path_train = \"data/chi_train.jsonl\"\n",
    "manual_path_validate = \"data/chi_validate.jsonl\"\n",
    "manual_path_test = \"data/chi_test.jsonl\"\n",
    "train_df.to_json(manual_path_train, orient=\"records\", lines=True)\n",
    "val_df.to_json(manual_path_validate, orient=\"records\", lines=True)\n",
    "test_df.to_json(manual_path_test, orient=\"records\", lines=True)"
   ]
  },
  {
   "cell_type": "code",
   "execution_count": 215,
   "metadata": {},
   "outputs": [
    {
     "name": "stdout",
     "output_type": "stream",
     "text": [
      "Downloading and preparing dataset json/default to /Users/stefan/.cache/huggingface/datasets/json/default-3a27a5eb85090926/0.0.0/e347ab1c932092252e717ff3f949105a4dd28b27e842dd53157d2f72e276c2e4...\n"
     ]
    },
    {
     "data": {
      "application/vnd.jupyter.widget-view+json": {
       "model_id": "dba9af1502f848d7a3d831fa4e18d013",
       "version_major": 2,
       "version_minor": 0
      },
      "text/plain": [
       "Downloading data files:   0%|          | 0/3 [00:00<?, ?it/s]"
      ]
     },
     "metadata": {},
     "output_type": "display_data"
    },
    {
     "data": {
      "application/vnd.jupyter.widget-view+json": {
       "model_id": "5b27682b2b9d4fc0b2c5926476a9496b",
       "version_major": 2,
       "version_minor": 0
      },
      "text/plain": [
       "Extracting data files:   0%|          | 0/3 [00:00<?, ?it/s]"
      ]
     },
     "metadata": {},
     "output_type": "display_data"
    },
    {
     "data": {
      "application/vnd.jupyter.widget-view+json": {
       "model_id": "e5090ea7fff6431fbb1e20be37eddec5",
       "version_major": 2,
       "version_minor": 0
      },
      "text/plain": [
       "Generating train split: 0 examples [00:00, ? examples/s]"
      ]
     },
     "metadata": {},
     "output_type": "display_data"
    },
    {
     "data": {
      "application/vnd.jupyter.widget-view+json": {
       "model_id": "298262addaee4f929c92559dcb6e77a2",
       "version_major": 2,
       "version_minor": 0
      },
      "text/plain": [
       "Generating validate split: 0 examples [00:00, ? examples/s]"
      ]
     },
     "metadata": {},
     "output_type": "display_data"
    },
    {
     "data": {
      "application/vnd.jupyter.widget-view+json": {
       "model_id": "f147023cd33645019d12cf0f6e4b185e",
       "version_major": 2,
       "version_minor": 0
      },
      "text/plain": [
       "Generating test split: 0 examples [00:00, ? examples/s]"
      ]
     },
     "metadata": {},
     "output_type": "display_data"
    },
    {
     "name": "stdout",
     "output_type": "stream",
     "text": [
      "Dataset json downloaded and prepared to /Users/stefan/.cache/huggingface/datasets/json/default-3a27a5eb85090926/0.0.0/e347ab1c932092252e717ff3f949105a4dd28b27e842dd53157d2f72e276c2e4. Subsequent calls will reuse this data.\n"
     ]
    },
    {
     "data": {
      "application/vnd.jupyter.widget-view+json": {
       "model_id": "ac8a158ee3b34cf1821d11239c251462",
       "version_major": 2,
       "version_minor": 0
      },
      "text/plain": [
       "  0%|          | 0/3 [00:00<?, ?it/s]"
      ]
     },
     "metadata": {},
     "output_type": "display_data"
    }
   ],
   "source": [
    "from datasets import load_dataset\n",
    "\n",
    "data_files = {\n",
    "    'train': manual_path_train,\n",
    "    'validate': manual_path_validate,\n",
    "    'test': manual_path_test\n",
    "}\n",
    "manual_ds = load_dataset(\"json\", data_files=data_files)"
   ]
  },
  {
   "cell_type": "code",
   "execution_count": 216,
   "metadata": {},
   "outputs": [
    {
     "data": {
      "text/plain": [
       "DatasetDict({\n",
       "    train: Dataset({\n",
       "        features: ['id', 'created_utc', 'author', 'title', 'selftext', 'tone', 'emotion', 'theme'],\n",
       "        num_rows: 20\n",
       "    })\n",
       "    validate: Dataset({\n",
       "        features: ['id', 'created_utc', 'author', 'title', 'selftext', 'tone', 'emotion', 'theme'],\n",
       "        num_rows: 3\n",
       "    })\n",
       "    test: Dataset({\n",
       "        features: ['id', 'created_utc', 'author', 'title', 'selftext', 'tone', 'emotion', 'theme'],\n",
       "        num_rows: 3\n",
       "    })\n",
       "})"
      ]
     },
     "execution_count": 216,
     "metadata": {},
     "output_type": "execute_result"
    }
   ],
   "source": [
    "manual_ds"
   ]
  },
  {
   "cell_type": "code",
   "execution_count": 217,
   "metadata": {},
   "outputs": [
    {
     "data": {
      "application/vnd.jupyter.widget-view+json": {
       "model_id": "033d17ff721844189b8eb2877dacda5c",
       "version_major": 2,
       "version_minor": 0
      },
      "text/plain": [
       "Map:   0%|          | 0/20 [00:00<?, ? examples/s]"
      ]
     },
     "metadata": {},
     "output_type": "display_data"
    },
    {
     "data": {
      "application/vnd.jupyter.widget-view+json": {
       "model_id": "20ddafed28cd496aad72bdd1a28cc8df",
       "version_major": 2,
       "version_minor": 0
      },
      "text/plain": [
       "Map:   0%|          | 0/3 [00:00<?, ? examples/s]"
      ]
     },
     "metadata": {},
     "output_type": "display_data"
    },
    {
     "data": {
      "application/vnd.jupyter.widget-view+json": {
       "model_id": "1bf756695ba04f5a81e722d724193b57",
       "version_major": 2,
       "version_minor": 0
      },
      "text/plain": [
       "Map:   0%|          | 0/3 [00:00<?, ? examples/s]"
      ]
     },
     "metadata": {},
     "output_type": "display_data"
    }
   ],
   "source": [
    "def concat_text(row):\n",
    "    return {\n",
    "        'text': row['title'] + '\\n' + row['selftext']\n",
    "    }\n",
    "\n",
    "manual_ds = manual_ds.map(concat_text)"
   ]
  },
  {
   "cell_type": "code",
   "execution_count": 220,
   "metadata": {},
   "outputs": [],
   "source": [
    "cols = manual_ds.column_names['train']\n",
    "col_keep = {'text', 'tone'}\n",
    "manual_ds = manual_ds.remove_columns(col_keep.symmetric_difference(cols))"
   ]
  },
  {
   "cell_type": "code",
   "execution_count": 221,
   "metadata": {},
   "outputs": [
    {
     "ename": "ValueError",
     "evalue": "Class encoding is only supported for Value column, and column tone is ClassLabel.",
     "output_type": "error",
     "traceback": [
      "\u001b[0;31m---------------------------------------------------------------------------\u001b[0m",
      "\u001b[0;31mValueError\u001b[0m                                Traceback (most recent call last)",
      "Cell \u001b[0;32mIn[221], line 1\u001b[0m\n\u001b[0;32m----> 1\u001b[0m manual_ds \u001b[39m=\u001b[39m manual_ds\u001b[39m.\u001b[39;49mclass_encode_column(\u001b[39m'\u001b[39;49m\u001b[39mtone\u001b[39;49m\u001b[39m'\u001b[39;49m)\n\u001b[1;32m      2\u001b[0m manual_ds[\u001b[39m'\u001b[39m\u001b[39mtrain\u001b[39m\u001b[39m'\u001b[39m]\u001b[39m.\u001b[39mfeatures\n",
      "File \u001b[0;32m~/.local/share/virtualenvs/fusion_analysis-xH46poxW/lib/python3.11/site-packages/datasets/dataset_dict.py:499\u001b[0m, in \u001b[0;36mDatasetDict.class_encode_column\u001b[0;34m(self, column, include_nulls)\u001b[0m\n\u001b[1;32m    471\u001b[0m \u001b[39m\u001b[39m\u001b[39m\"\"\"Casts the given column as [`~datasets.features.ClassLabel`] and updates the tables.\u001b[39;00m\n\u001b[1;32m    472\u001b[0m \n\u001b[1;32m    473\u001b[0m \u001b[39mArgs:\u001b[39;00m\n\u001b[0;32m   (...)\u001b[0m\n\u001b[1;32m    495\u001b[0m \u001b[39m```\u001b[39;00m\n\u001b[1;32m    496\u001b[0m \u001b[39m\"\"\"\u001b[39;00m\n\u001b[1;32m    497\u001b[0m \u001b[39mself\u001b[39m\u001b[39m.\u001b[39m_check_values_type()\n\u001b[1;32m    498\u001b[0m \u001b[39mreturn\u001b[39;00m DatasetDict(\n\u001b[0;32m--> 499\u001b[0m     {k: dataset\u001b[39m.\u001b[39;49mclass_encode_column(column\u001b[39m=\u001b[39;49mcolumn, include_nulls\u001b[39m=\u001b[39;49minclude_nulls) \u001b[39mfor\u001b[39;49;00m k, dataset \u001b[39min\u001b[39;49;00m \u001b[39mself\u001b[39;49m\u001b[39m.\u001b[39;49mitems()}\n\u001b[1;32m    500\u001b[0m )\n",
      "File \u001b[0;32m~/.local/share/virtualenvs/fusion_analysis-xH46poxW/lib/python3.11/site-packages/datasets/dataset_dict.py:499\u001b[0m, in \u001b[0;36m<dictcomp>\u001b[0;34m(.0)\u001b[0m\n\u001b[1;32m    471\u001b[0m \u001b[39m\u001b[39m\u001b[39m\"\"\"Casts the given column as [`~datasets.features.ClassLabel`] and updates the tables.\u001b[39;00m\n\u001b[1;32m    472\u001b[0m \n\u001b[1;32m    473\u001b[0m \u001b[39mArgs:\u001b[39;00m\n\u001b[0;32m   (...)\u001b[0m\n\u001b[1;32m    495\u001b[0m \u001b[39m```\u001b[39;00m\n\u001b[1;32m    496\u001b[0m \u001b[39m\"\"\"\u001b[39;00m\n\u001b[1;32m    497\u001b[0m \u001b[39mself\u001b[39m\u001b[39m.\u001b[39m_check_values_type()\n\u001b[1;32m    498\u001b[0m \u001b[39mreturn\u001b[39;00m DatasetDict(\n\u001b[0;32m--> 499\u001b[0m     {k: dataset\u001b[39m.\u001b[39;49mclass_encode_column(column\u001b[39m=\u001b[39;49mcolumn, include_nulls\u001b[39m=\u001b[39;49minclude_nulls) \u001b[39mfor\u001b[39;00m k, dataset \u001b[39min\u001b[39;00m \u001b[39mself\u001b[39m\u001b[39m.\u001b[39mitems()}\n\u001b[1;32m    500\u001b[0m )\n",
      "File \u001b[0;32m~/.local/share/virtualenvs/fusion_analysis-xH46poxW/lib/python3.11/site-packages/datasets/arrow_dataset.py:1890\u001b[0m, in \u001b[0;36mDataset.class_encode_column\u001b[0;34m(self, column, include_nulls)\u001b[0m\n\u001b[1;32m   1888\u001b[0m src_feat \u001b[39m=\u001b[39m \u001b[39mself\u001b[39m\u001b[39m.\u001b[39m_info\u001b[39m.\u001b[39mfeatures[column]\n\u001b[1;32m   1889\u001b[0m \u001b[39mif\u001b[39;00m \u001b[39mnot\u001b[39;00m \u001b[39misinstance\u001b[39m(src_feat, Value):\n\u001b[0;32m-> 1890\u001b[0m     \u001b[39mraise\u001b[39;00m \u001b[39mValueError\u001b[39;00m(\n\u001b[1;32m   1891\u001b[0m         \u001b[39mf\u001b[39m\u001b[39m\"\u001b[39m\u001b[39mClass encoding is only supported for \u001b[39m\u001b[39m{\u001b[39;00mValue\u001b[39m.\u001b[39m\u001b[39m__name__\u001b[39m\u001b[39m}\u001b[39;00m\u001b[39m column, and column \u001b[39m\u001b[39m{\u001b[39;00mcolumn\u001b[39m}\u001b[39;00m\u001b[39m is \u001b[39m\u001b[39m{\u001b[39;00m\u001b[39mtype\u001b[39m(src_feat)\u001b[39m.\u001b[39m\u001b[39m__name__\u001b[39m\u001b[39m}\u001b[39;00m\u001b[39m.\u001b[39m\u001b[39m\"\u001b[39m\n\u001b[1;32m   1892\u001b[0m     )\n\u001b[1;32m   1894\u001b[0m \u001b[39mif\u001b[39;00m src_feat\u001b[39m.\u001b[39mdtype \u001b[39m!=\u001b[39m \u001b[39m\"\u001b[39m\u001b[39mstring\u001b[39m\u001b[39m\"\u001b[39m \u001b[39mor\u001b[39;00m (include_nulls \u001b[39mand\u001b[39;00m \u001b[39mNone\u001b[39;00m \u001b[39min\u001b[39;00m \u001b[39mself\u001b[39m\u001b[39m.\u001b[39munique(column)):\n\u001b[1;32m   1896\u001b[0m     \u001b[39mdef\u001b[39;00m \u001b[39mstringify_column\u001b[39m(batch):\n",
      "\u001b[0;31mValueError\u001b[0m: Class encoding is only supported for Value column, and column tone is ClassLabel."
     ]
    }
   ],
   "source": [
    "manual_ds = manual_ds.class_encode_column('tone')\n",
    "manual_ds['train'].features"
   ]
  },
  {
   "cell_type": "code",
   "execution_count": 222,
   "metadata": {},
   "outputs": [],
   "source": [
    "from transformers import AutoModelForSequenceClassification\n",
    "from transformers import AutoTokenizer, AutoConfig\n",
    "import torch\n",
    "\n",
    "device = torch.device(\"mps\" if torch.backends.mps.is_available() else \"cpu\")\n",
    "\n",
    "def init_model(model_path: str):\n",
    "    tokenizer = AutoTokenizer.from_pretrained(model_path)\n",
    "    config = AutoConfig.from_pretrained(model_path)\n",
    "    model = AutoModelForSequenceClassification.from_pretrained(model_path)\n",
    "\n",
    "    return (tokenizer, config, model)"
   ]
  },
  {
   "cell_type": "code",
   "execution_count": 223,
   "metadata": {},
   "outputs": [],
   "source": [
    "tone_tokenizer, tone_config, tone_model = init_model(\"cardiffnlp/twitter-roberta-base-sentiment-latest\")"
   ]
  },
  {
   "cell_type": "code",
   "execution_count": 224,
   "metadata": {},
   "outputs": [
    {
     "data": {
      "application/vnd.jupyter.widget-view+json": {
       "model_id": "8660db2cc0624401bc264348880b617d",
       "version_major": 2,
       "version_minor": 0
      },
      "text/plain": [
       "Map:   0%|          | 0/20 [00:00<?, ? examples/s]"
      ]
     },
     "metadata": {},
     "output_type": "display_data"
    },
    {
     "data": {
      "application/vnd.jupyter.widget-view+json": {
       "model_id": "269c9adca0384015809789678abc96be",
       "version_major": 2,
       "version_minor": 0
      },
      "text/plain": [
       "Map:   0%|          | 0/3 [00:00<?, ? examples/s]"
      ]
     },
     "metadata": {},
     "output_type": "display_data"
    },
    {
     "data": {
      "application/vnd.jupyter.widget-view+json": {
       "model_id": "182cc5c4027c4f8a8cf72ebfcbd64b54",
       "version_major": 2,
       "version_minor": 0
      },
      "text/plain": [
       "Map:   0%|          | 0/3 [00:00<?, ? examples/s]"
      ]
     },
     "metadata": {},
     "output_type": "display_data"
    }
   ],
   "source": [
    "def tokenize_func(row):\n",
    "  return tone_tokenizer(row['text'], max_length=512, padding='max_length', truncation=True, return_tensors='pt')\n",
    "\n",
    "manual_ds = manual_ds.map(tokenize_func, batched=True)"
   ]
  },
  {
   "cell_type": "code",
   "execution_count": 238,
   "metadata": {},
   "outputs": [],
   "source": [
    "manual_ds = manual_ds.rename_column('tone', 'label')"
   ]
  },
  {
   "cell_type": "code",
   "execution_count": 247,
   "metadata": {},
   "outputs": [
    {
     "data": {
      "text/plain": [
       "DatasetDict({\n",
       "    train: Dataset({\n",
       "        features: ['label', 'text', 'input_ids', 'attention_mask'],\n",
       "        num_rows: 20\n",
       "    })\n",
       "    validate: Dataset({\n",
       "        features: ['label', 'text', 'input_ids', 'attention_mask'],\n",
       "        num_rows: 3\n",
       "    })\n",
       "    test: Dataset({\n",
       "        features: ['label', 'text', 'input_ids', 'attention_mask'],\n",
       "        num_rows: 3\n",
       "    })\n",
       "})"
      ]
     },
     "execution_count": 247,
     "metadata": {},
     "output_type": "execute_result"
    }
   ],
   "source": [
    "manual_ds"
   ]
  },
  {
   "cell_type": "code",
   "execution_count": 239,
   "metadata": {},
   "outputs": [],
   "source": [
    "import numpy as np\n",
    "import evaluate\n",
    "\n",
    "metric = evaluate.load('accuracy')\n",
    "\n",
    "def compute_metrics(eval_pred):\n",
    "    logits, labels = eval_pred\n",
    "    predictions = np.argmax(logits, axis=-1)\n",
    "    return metric.compute(predictions=predictions, references=labels)"
   ]
  },
  {
   "cell_type": "code",
   "execution_count": 252,
   "metadata": {},
   "outputs": [
    {
     "name": "stdout",
     "output_type": "stream",
     "text": [
      "Trainer device: mps\n"
     ]
    }
   ],
   "source": [
    "from transformers import Trainer, TrainingArguments, logging\n",
    "\n",
    "logging.set_verbosity_error()\n",
    "\n",
    "logging_steps = len(manual_ds['train'])\n",
    "model_name = \"tone-finetuned\"\n",
    "training_args = TrainingArguments(\n",
    "    output_dir=model_name,\n",
    "    num_train_epochs=2,\n",
    "    learning_rate=2e-5,\n",
    "    weight_decay=0.01,\n",
    "    evaluation_strategy=\"epoch\",\n",
    "    disable_tqdm=False,\n",
    "    logging_steps=logging_steps,\n",
    "    log_level=\"error\",\n",
    "    use_mps_device=True\n",
    ")\n",
    "\n",
    "trainer = Trainer(\n",
    "    model=tone_model,\n",
    "    args=training_args,\n",
    "    train_dataset=manual_ds['train'],\n",
    "    eval_dataset=manual_ds['validate'],\n",
    "    compute_metrics=compute_metrics,\n",
    "    tokenizer=tone_tokenizer\n",
    ")\n",
    "\n",
    "print(\"Trainer device:\",trainer.args.device)"
   ]
  },
  {
   "cell_type": "code",
   "execution_count": 253,
   "metadata": {},
   "outputs": [],
   "source": [
    "def print_summary(result):\n",
    "    print(f\"Time: {result.metrics['train_runtime']:.2f}\")\n",
    "    print(f\"Samples/second: {result.metrics['train_samples_per_second']:.2f}\")"
   ]
  },
  {
   "cell_type": "code",
   "execution_count": 254,
   "metadata": {},
   "outputs": [
    {
     "name": "stderr",
     "output_type": "stream",
     "text": [
      "/Users/stefan/.local/share/virtualenvs/fusion_analysis-xH46poxW/lib/python3.11/site-packages/transformers/optimization.py:411: FutureWarning: This implementation of AdamW is deprecated and will be removed in a future version. Use the PyTorch implementation torch.optim.AdamW instead, or set `no_deprecation_warning=True` to disable this warning\n",
      "  warnings.warn(\n"
     ]
    },
    {
     "data": {
      "application/vnd.jupyter.widget-view+json": {
       "model_id": "fbb6f9d98d4347799832acda2bb57bb8",
       "version_major": 2,
       "version_minor": 0
      },
      "text/plain": [
       "  0%|          | 0/6 [00:00<?, ?it/s]"
      ]
     },
     "metadata": {},
     "output_type": "display_data"
    },
    {
     "data": {
      "application/vnd.jupyter.widget-view+json": {
       "model_id": "3b5cc54011e142c195443628acf53c86",
       "version_major": 2,
       "version_minor": 0
      },
      "text/plain": [
       "  0%|          | 0/1 [00:00<?, ?it/s]"
      ]
     },
     "metadata": {},
     "output_type": "display_data"
    },
    {
     "name": "stdout",
     "output_type": "stream",
     "text": [
      "{'eval_loss': 2.143649101257324, 'eval_accuracy': 0.6666666666666666, 'eval_runtime': 0.0725, 'eval_samples_per_second': 41.357, 'eval_steps_per_second': 13.786, 'epoch': 1.0}\n"
     ]
    },
    {
     "data": {
      "application/vnd.jupyter.widget-view+json": {
       "model_id": "af556d750ff24d97a55ca0774b5251e2",
       "version_major": 2,
       "version_minor": 0
      },
      "text/plain": [
       "  0%|          | 0/1 [00:00<?, ?it/s]"
      ]
     },
     "metadata": {},
     "output_type": "display_data"
    },
    {
     "name": "stdout",
     "output_type": "stream",
     "text": [
      "{'eval_loss': 1.6097502708435059, 'eval_accuracy': 0.6666666666666666, 'eval_runtime': 0.0731, 'eval_samples_per_second': 41.033, 'eval_steps_per_second': 13.678, 'epoch': 2.0}\n",
      "{'train_runtime': 3.9556, 'train_samples_per_second': 10.112, 'train_steps_per_second': 1.517, 'train_loss': 0.015602140376965204, 'epoch': 2.0}\n",
      "Time: 3.96\n",
      "Samples/second: 10.11\n"
     ]
    }
   ],
   "source": [
    "result = trainer.train()\n",
    "print_summary(result)"
   ]
  },
  {
   "cell_type": "code",
   "execution_count": 257,
   "metadata": {},
   "outputs": [],
   "source": [
    "trainer.save_model('tone-finetined-final')"
   ]
  },
  {
   "cell_type": "code",
   "execution_count": null,
   "metadata": {},
   "outputs": [],
   "source": []
  }
 ],
 "metadata": {
  "kernelspec": {
   "display_name": "fusion_analysis-xH46poxW",
   "language": "python",
   "name": "python3"
  },
  "language_info": {
   "codemirror_mode": {
    "name": "ipython",
    "version": 3
   },
   "file_extension": ".py",
   "mimetype": "text/x-python",
   "name": "python",
   "nbconvert_exporter": "python",
   "pygments_lexer": "ipython3",
   "version": "3.11.5"
  },
  "orig_nbformat": 4
 },
 "nbformat": 4,
 "nbformat_minor": 2
}
