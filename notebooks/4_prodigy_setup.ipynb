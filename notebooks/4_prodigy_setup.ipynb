{
 "cells": [
  {
   "attachments": {},
   "cell_type": "markdown",
   "metadata": {},
   "source": [
    "# Preparing the dataset\n",
    "\n",
    "Pulling manual data classification and placing it into train-validate datasets"
   ]
  },
  {
   "cell_type": "code",
   "execution_count": 110,
   "metadata": {},
   "outputs": [],
   "source": [
    "import pandas as pd\n",
    "\n",
    "df_chi = pd.read_csv('../data/chi2.csv')"
   ]
  },
  {
   "cell_type": "code",
   "execution_count": 111,
   "metadata": {},
   "outputs": [],
   "source": [
    "df_chi['selftext'] = df_chi['selftext'].fillna('')\n",
    "df_chi['text'] = df_chi['title'] + '\\n' + df_chi['selftext']"
   ]
  },
  {
   "cell_type": "code",
   "execution_count": 112,
   "metadata": {},
   "outputs": [],
   "source": [
    "manual_bool = ~df_chi.loc[:, 'negative'].str.startswith('0.')\n",
    "df_manual = df_chi.loc[manual_bool]"
   ]
  },
  {
   "cell_type": "code",
   "execution_count": 113,
   "metadata": {},
   "outputs": [
    {
     "data": {
      "text/html": [
       "<div>\n",
       "<style scoped>\n",
       "    .dataframe tbody tr th:only-of-type {\n",
       "        vertical-align: middle;\n",
       "    }\n",
       "\n",
       "    .dataframe tbody tr th {\n",
       "        vertical-align: top;\n",
       "    }\n",
       "\n",
       "    .dataframe thead th {\n",
       "        text-align: right;\n",
       "    }\n",
       "</style>\n",
       "<table border=\"1\" class=\"dataframe\">\n",
       "  <thead>\n",
       "    <tr style=\"text-align: right;\">\n",
       "      <th></th>\n",
       "      <th>tone</th>\n",
       "      <th>emotion</th>\n",
       "      <th>theme</th>\n",
       "    </tr>\n",
       "  </thead>\n",
       "  <tbody>\n",
       "    <tr>\n",
       "      <th>count</th>\n",
       "      <td>151</td>\n",
       "      <td>151</td>\n",
       "      <td>151</td>\n",
       "    </tr>\n",
       "    <tr>\n",
       "      <th>unique</th>\n",
       "      <td>4</td>\n",
       "      <td>8</td>\n",
       "      <td>8</td>\n",
       "    </tr>\n",
       "    <tr>\n",
       "      <th>top</th>\n",
       "      <td>neutral</td>\n",
       "      <td>fear</td>\n",
       "      <td>question</td>\n",
       "    </tr>\n",
       "    <tr>\n",
       "      <th>freq</th>\n",
       "      <td>95</td>\n",
       "      <td>74</td>\n",
       "      <td>71</td>\n",
       "    </tr>\n",
       "  </tbody>\n",
       "</table>\n",
       "</div>"
      ],
      "text/plain": [
       "           tone emotion     theme\n",
       "count       151     151       151\n",
       "unique        4       8         8\n",
       "top     neutral    fear  question\n",
       "freq         95      74        71"
      ]
     },
     "execution_count": 113,
     "metadata": {},
     "output_type": "execute_result"
    }
   ],
   "source": [
    "df_manual.loc[:, ['tone', 'emotion', 'theme']].describe()"
   ]
  },
  {
   "cell_type": "code",
   "execution_count": 116,
   "metadata": {},
   "outputs": [],
   "source": [
    "tone_labels = ['negative', 'neutral', 'positive']\n",
    "emotion_labels = ['sadness', 'joy', 'love', 'anger', 'fear', 'surprise']\n",
    "theme_labels = ['clinical update', 'community', 'question', 'education', 'advocating', 'dissuading', 'other']"
   ]
  },
  {
   "cell_type": "code",
   "execution_count": 133,
   "metadata": {},
   "outputs": [],
   "source": [
    "import json\n",
    "import os\n",
    "\n",
    "def rows_to_jsonl(df, label_key, score_keys):\n",
    "  df['label'] = df[label_key]\n",
    "  df['score'] = pd.NA\n",
    "  df['answer'] = pd.NA\n",
    "  df['meta'] = '{\"annotated\": false, \"score\": 0}'\n",
    "\n",
    "  manual_bool = ~df.loc[:, 'negative'].str.startswith('0.')\n",
    "  df.loc[~manual_bool, ['score']] = df.loc[~manual_bool, score_keys].max(axis=1)\n",
    "  df['score'] = pd.to_numeric(df['score'], errors='coerce')\n",
    "  df.loc[manual_bool, ['answer']] = 'accept'\n",
    "\n",
    "  df.loc[manual_bool, ['meta']] = df.loc[manual_bool]['id'].apply(lambda x: f'{{\"annotated\": true, \"id\": \"{x}\"}}')\n",
    "  df.loc[~manual_bool, ['meta']] = (\n",
    "    df.loc[~manual_bool]['score'].apply(lambda x: f'{{\"annotated\": false, \"score\": {x}, ').astype(str) + \n",
    "    df.loc[~manual_bool]['id'].apply(lambda x: f'\"id\": \"{x}\", ') +\n",
    "    df.loc[~manual_bool][label_key].apply(lambda x: f'\"label\": \"{x}\"}}').astype(str)\n",
    "  )\n",
    "  df.loc[~manual_bool, ['label']] = pd.NA\n",
    "\n",
    "  filename = f'../datasets/{label_key}.jsonl'\n",
    "  df.loc[~manual_bool, ['text', 'meta', 'label', 'score', 'answer']].to_json(filename, orient='records', lines=True)\n",
    "  tmp_filename = '../datasets/tmp.jsonl'\n",
    "\n",
    "  with open(filename, 'r') as f:\n",
    "    with open(tmp_filename, 'w') as f2:\n",
    "      for line in f:\n",
    "        row = json.loads(line)\n",
    "        try:\n",
    "          row['meta'] = json.loads(row['meta'])\n",
    "        except:\n",
    "          print(row['meta'])\n",
    "          raise\n",
    "        f2.write(json.dumps(row) + \"\\n\")\n",
    "  \n",
    "  os.remove(filename)\n",
    "  os.rename(tmp_filename, filename)\n"
   ]
  },
  {
   "cell_type": "code",
   "execution_count": 134,
   "metadata": {},
   "outputs": [],
   "source": [
    "rows_to_jsonl(df_chi, 'tone', tone_labels)\n",
    "rows_to_jsonl(df_chi, 'emotion', emotion_labels)\n",
    "rows_to_jsonl(df_chi, 'theme', theme_labels)"
   ]
  },
  {
   "cell_type": "code",
   "execution_count": null,
   "metadata": {},
   "outputs": [],
   "source": []
  }
 ],
 "metadata": {
  "kernelspec": {
   "display_name": "fusion_analysis-xH46poxW",
   "language": "python",
   "name": "python3"
  },
  "language_info": {
   "codemirror_mode": {
    "name": "ipython",
    "version": 3
   },
   "file_extension": ".py",
   "mimetype": "text/x-python",
   "name": "python",
   "nbconvert_exporter": "python",
   "pygments_lexer": "ipython3",
   "version": "3.11.6"
  },
  "orig_nbformat": 4
 },
 "nbformat": 4,
 "nbformat_minor": 2
}
