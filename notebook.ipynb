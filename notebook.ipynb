{
 "cells": [
  {
   "attachments": {},
   "cell_type": "markdown",
   "metadata": {},
   "source": [
    "# Downloading data from Reddit\n",
    "\n",
    "Using the PRAW library to get all the subreddit submissions"
   ]
  },
  {
   "cell_type": "code",
   "execution_count": 1,
   "metadata": {},
   "outputs": [],
   "source": [
    "import requests\n",
    "import requests.auth\n",
    "import os\n",
    "from pprint import pprint\n",
    "\n",
    "REDDIT_CLIENT_ID = os.getenv(\"REDDIT_CLIENT_ID\")\n",
    "REDDIT_SECRET = os.getenv(\"REDDIT_SECRET\")\n",
    "REDDIT_USERNAME = os.getenv(\"REDDIT_USERNAME\")\n",
    "REDDIT_PASSWORD = os.getenv(\"REDDIT_PASSWORD\")\n",
    "USER_AGENT = \"FusionAnalysis/0.1 by Darkbladecr\""
   ]
  },
  {
   "cell_type": "code",
   "execution_count": 2,
   "metadata": {},
   "outputs": [],
   "source": [
    "# client_auth = requests.auth.HTTPBasicAuth(REDDIT_CLIENT_ID, REDDIT_SECRET)\n",
    "# payload = {\"grant_type\": \"password\", \"username\": REDDIT_USERNAME, \"password\": REDDIT_PASSWORD}\n",
    "# headers = {\"User-Agent\": USER_AGENT}\n",
    "# response = requests.post(\"https://www.reddit.com/api/v1/access_token\", auth=client_auth, params=payload, headers=headers)\n",
    "# res_json = response.json()\n",
    "\n",
    "# REDDIT_TOKEN = res_json['access_token']"
   ]
  },
  {
   "cell_type": "code",
   "execution_count": 3,
   "metadata": {},
   "outputs": [],
   "source": [
    "import praw\n",
    "\n",
    "reddit = praw.Reddit(\n",
    "    client_id=REDDIT_CLIENT_ID,\n",
    "    client_secret=REDDIT_SECRET,\n",
    "    user_agent=USER_AGENT\n",
    ")"
   ]
  },
  {
   "cell_type": "code",
   "execution_count": 4,
   "metadata": {},
   "outputs": [],
   "source": [
    "subreddit = reddit.subreddit(\"spinalfusion\")"
   ]
  },
  {
   "cell_type": "code",
   "execution_count": 5,
   "metadata": {},
   "outputs": [
    {
     "name": "stdout",
     "output_type": "stream",
     "text": [
      "{'_comments_by_id': {},\n",
      " '_fetched': False,\n",
      " '_reddit': <praw.reddit.Reddit object at 0x1079b9cd0>,\n",
      " 'all_awardings': [],\n",
      " 'allow_live_comments': False,\n",
      " 'approved_at_utc': None,\n",
      " 'approved_by': None,\n",
      " 'archived': False,\n",
      " 'author': Redditor(name='BloodRedPlanet'),\n",
      " 'author_flair_background_color': None,\n",
      " 'author_flair_css_class': None,\n",
      " 'author_flair_richtext': [],\n",
      " 'author_flair_template_id': None,\n",
      " 'author_flair_text': None,\n",
      " 'author_flair_text_color': None,\n",
      " 'author_flair_type': 'text',\n",
      " 'author_fullname': 't2_2x25686z',\n",
      " 'author_is_blocked': False,\n",
      " 'author_patreon_flair': False,\n",
      " 'author_premium': False,\n",
      " 'awarders': [],\n",
      " 'banned_at_utc': None,\n",
      " 'banned_by': None,\n",
      " 'can_gild': False,\n",
      " 'can_mod_post': False,\n",
      " 'category': None,\n",
      " 'clicked': False,\n",
      " 'comment_limit': 2048,\n",
      " 'comment_sort': 'confidence',\n",
      " 'content_categories': None,\n",
      " 'contest_mode': False,\n",
      " 'created': 1685557328.0,\n",
      " 'created_utc': 1685557328.0,\n",
      " 'discussion_type': None,\n",
      " 'distinguished': None,\n",
      " 'domain': 'self.spinalfusion',\n",
      " 'downs': 0,\n",
      " 'edited': False,\n",
      " 'gilded': 0,\n",
      " 'gildings': {},\n",
      " 'hidden': False,\n",
      " 'hide_score': False,\n",
      " 'id': '13wtu2w',\n",
      " 'is_created_from_ads_ui': False,\n",
      " 'is_crosspostable': False,\n",
      " 'is_meta': False,\n",
      " 'is_original_content': False,\n",
      " 'is_reddit_media_domain': False,\n",
      " 'is_robot_indexable': True,\n",
      " 'is_self': True,\n",
      " 'is_video': False,\n",
      " 'likes': None,\n",
      " 'link_flair_background_color': '',\n",
      " 'link_flair_css_class': None,\n",
      " 'link_flair_richtext': [],\n",
      " 'link_flair_text': None,\n",
      " 'link_flair_text_color': 'dark',\n",
      " 'link_flair_type': 'text',\n",
      " 'locked': False,\n",
      " 'media': None,\n",
      " 'media_embed': {},\n",
      " 'media_only': False,\n",
      " 'mod_note': None,\n",
      " 'mod_reason_by': None,\n",
      " 'mod_reason_title': None,\n",
      " 'mod_reports': [],\n",
      " 'name': 't3_13wtu2w',\n",
      " 'no_follow': True,\n",
      " 'num_comments': 0,\n",
      " 'num_crossposts': 0,\n",
      " 'num_reports': None,\n",
      " 'over_18': False,\n",
      " 'parent_whitelist_status': None,\n",
      " 'permalink': '/r/spinalfusion/comments/13wtu2w/frontal_temporal_headaches_right_side_8_weeks/',\n",
      " 'pinned': False,\n",
      " 'pwls': None,\n",
      " 'quarantine': False,\n",
      " 'removal_reason': None,\n",
      " 'removed_by': None,\n",
      " 'removed_by_category': None,\n",
      " 'report_reasons': None,\n",
      " 'saved': False,\n",
      " 'score': 1,\n",
      " 'secure_media': None,\n",
      " 'secure_media_embed': {},\n",
      " 'selftext': 'Hello,\\n'\n",
      "             '\\n'\n",
      "             \"I'm getting headaches with numbness/paresthesia only on right \"\n",
      "             \"side. I'm having thoughts that this could be from a failed \"\n",
      "             \"fusion or I broke something.  I'm at 8 weeks and thought that \"\n",
      "             \"I'd be better at this point, but now it brought me back to day \"\n",
      "             \"0.  I'm more worried than I was before.  What's causing my \"\n",
      "             'headaches? Is it from constant moving? Having cervical fusion '\n",
      "             'might be the hardest to maintain due to it being a mobile part '\n",
      "             'of our spine. I hope this is temporary.',\n",
      " 'selftext_html': '<!-- SC_OFF --><div class=\"md\"><p>Hello,</p>\\n'\n",
      "                  '\\n'\n",
      "                  '<p>I&#39;m getting headaches with numbness/paresthesia only '\n",
      "                  'on right side. I&#39;m having thoughts that this could be '\n",
      "                  'from a failed fusion or I broke something.  I&#39;m at 8 '\n",
      "                  'weeks and thought that I&#39;d be better at this point, but '\n",
      "                  'now it brought me back to day 0.  I&#39;m more worried than '\n",
      "                  'I was before.  What&#39;s causing my headaches? Is it from '\n",
      "                  'constant moving? Having cervical fusion might be the '\n",
      "                  'hardest to maintain due to it being a mobile part of our '\n",
      "                  'spine. I hope this is temporary.</p>\\n'\n",
      "                  '</div><!-- SC_ON -->',\n",
      " 'send_replies': True,\n",
      " 'spoiler': False,\n",
      " 'stickied': False,\n",
      " 'subreddit': Subreddit(display_name='spinalfusion'),\n",
      " 'subreddit_id': 't5_3b1tw',\n",
      " 'subreddit_name_prefixed': 'r/spinalfusion',\n",
      " 'subreddit_subscribers': 3946,\n",
      " 'subreddit_type': 'public',\n",
      " 'suggested_sort': None,\n",
      " 'thumbnail': '',\n",
      " 'title': 'frontal temporal headaches, right side 8 weeks postop C2-T3 fusion '\n",
      "          'and laminectomy',\n",
      " 'top_awarded_type': None,\n",
      " 'total_awards_received': 0,\n",
      " 'treatment_tags': [],\n",
      " 'ups': 1,\n",
      " 'upvote_ratio': 1.0,\n",
      " 'url': 'https://www.reddit.com/r/spinalfusion/comments/13wtu2w/frontal_temporal_headaches_right_side_8_weeks/',\n",
      " 'user_reports': [],\n",
      " 'view_count': None,\n",
      " 'visited': False,\n",
      " 'whitelist_status': None,\n",
      " 'wls': None}\n"
     ]
    }
   ],
   "source": [
    "for post in subreddit.new(limit=1):\n",
    "    sample = vars(post)\n",
    "    pprint(sample)"
   ]
  },
  {
   "cell_type": "code",
   "execution_count": 15,
   "metadata": {},
   "outputs": [],
   "source": [
    "keys = (\n",
    "    'id',\n",
    "    'created_utc',\n",
    "    'permalink',\n",
    "    'author',\n",
    "    'title',\n",
    "    'selftext',\n",
    "    'view_count',\n",
    "    'ups',\n",
    "    'downs',\n",
    "    'upvote_ratio',\n",
    "    'likes',\n",
    "    'all_awardings',\n",
    "    'media',\n",
    "    'media_embed'\n",
    ")\n",
    "\n",
    "data = {k: [] for k in keys}\n",
    "\n",
    "for post in subreddit.new(limit=None):\n",
    "    for k in keys:\n",
    "        data[k].append(vars(post)[k])\n"
   ]
  },
  {
   "cell_type": "code",
   "execution_count": 2,
   "metadata": {},
   "outputs": [
    {
     "ename": "NameError",
     "evalue": "name 'data' is not defined",
     "output_type": "error",
     "traceback": [
      "\u001b[0;31m---------------------------------------------------------------------------\u001b[0m",
      "\u001b[0;31mNameError\u001b[0m                                 Traceback (most recent call last)",
      "Cell \u001b[0;32mIn[2], line 3\u001b[0m\n\u001b[1;32m      1\u001b[0m \u001b[39mimport\u001b[39;00m \u001b[39mpandas\u001b[39;00m \u001b[39mas\u001b[39;00m \u001b[39mpd\u001b[39;00m\n\u001b[0;32m----> 3\u001b[0m df \u001b[39m=\u001b[39m pd\u001b[39m.\u001b[39mDataFrame\u001b[39m.\u001b[39mfrom_dict(data)\n",
      "\u001b[0;31mNameError\u001b[0m: name 'data' is not defined"
     ]
    }
   ],
   "source": [
    "import pandas as pd\n",
    "\n",
    "df = pd.DataFrame.from_dict(data)"
   ]
  },
  {
   "cell_type": "code",
   "execution_count": 29,
   "metadata": {},
   "outputs": [
    {
     "name": "stderr",
     "output_type": "stream",
     "text": [
      "/var/folders/lk/lhmn07j501l6rng06tjrl8cm0000gn/T/ipykernel_69768/875824637.py:1: PerformanceWarning: \n",
      "your performance may suffer as PyTables will pickle object types that it cannot\n",
      "map directly to c-types [inferred_type->mixed,key->block2_values] [items->Index(['all_awardings', 'author', 'id', 'likes', 'media', 'media_embed',\n",
      "       'permalink', 'title', 'selftext', 'view_count'],\n",
      "      dtype='object')]\n",
      "\n",
      "  df.to_hdf('data/raw_reddit.h5', key='df', mode='w')\n"
     ]
    }
   ],
   "source": [
    "df.to_hdf('data/reddit_raw.h5', key='df', mode='w')"
   ]
  },
  {
   "attachments": {},
   "cell_type": "markdown",
   "metadata": {},
   "source": [
    "## Processing DataFrame"
   ]
  },
  {
   "cell_type": "code",
   "execution_count": 12,
   "metadata": {},
   "outputs": [],
   "source": [
    "import pandas as pd\n",
    "\n",
    "df = pd.read_hdf('data/reddit_raw.h5', key='df')"
   ]
  },
  {
   "cell_type": "code",
   "execution_count": 13,
   "metadata": {},
   "outputs": [
    {
     "name": "stdout",
     "output_type": "stream",
     "text": [
      "(994, 14)\n"
     ]
    },
    {
     "data": {
      "text/html": [
       "<div>\n",
       "<style scoped>\n",
       "    .dataframe tbody tr th:only-of-type {\n",
       "        vertical-align: middle;\n",
       "    }\n",
       "\n",
       "    .dataframe tbody tr th {\n",
       "        vertical-align: top;\n",
       "    }\n",
       "\n",
       "    .dataframe thead th {\n",
       "        text-align: right;\n",
       "    }\n",
       "</style>\n",
       "<table border=\"1\" class=\"dataframe\">\n",
       "  <thead>\n",
       "    <tr style=\"text-align: right;\">\n",
       "      <th></th>\n",
       "      <th>all_awardings</th>\n",
       "      <th>author</th>\n",
       "      <th>created_utc</th>\n",
       "      <th>downs</th>\n",
       "      <th>id</th>\n",
       "      <th>likes</th>\n",
       "      <th>media</th>\n",
       "      <th>media_embed</th>\n",
       "      <th>permalink</th>\n",
       "      <th>title</th>\n",
       "      <th>selftext</th>\n",
       "      <th>ups</th>\n",
       "      <th>upvote_ratio</th>\n",
       "      <th>view_count</th>\n",
       "    </tr>\n",
       "  </thead>\n",
       "  <tbody>\n",
       "    <tr>\n",
       "      <th>0</th>\n",
       "      <td>[]</td>\n",
       "      <td>BloodRedPlanet</td>\n",
       "      <td>1.685557e+09</td>\n",
       "      <td>0</td>\n",
       "      <td>13wtu2w</td>\n",
       "      <td>None</td>\n",
       "      <td>None</td>\n",
       "      <td>{}</td>\n",
       "      <td>/r/spinalfusion/comments/13wtu2w/frontal_tempo...</td>\n",
       "      <td>frontal temporal headaches, right side 8 weeks...</td>\n",
       "      <td>Hello,\\n\\nI'm getting headaches with numbness/...</td>\n",
       "      <td>1</td>\n",
       "      <td>1.0</td>\n",
       "      <td>None</td>\n",
       "    </tr>\n",
       "    <tr>\n",
       "      <th>1</th>\n",
       "      <td>[]</td>\n",
       "      <td>engacad</td>\n",
       "      <td>1.685557e+09</td>\n",
       "      <td>0</td>\n",
       "      <td>13wtla9</td>\n",
       "      <td>None</td>\n",
       "      <td>None</td>\n",
       "      <td>{}</td>\n",
       "      <td>/r/spinalfusion/comments/13wtla9/transforamina...</td>\n",
       "      <td>Transforaminal diagnostic nerve root block rec...</td>\n",
       "      <td>I have an appointment for \"transforaminal\" Cer...</td>\n",
       "      <td>1</td>\n",
       "      <td>1.0</td>\n",
       "      <td>None</td>\n",
       "    </tr>\n",
       "    <tr>\n",
       "      <th>2</th>\n",
       "      <td>[]</td>\n",
       "      <td>motorboaters0b</td>\n",
       "      <td>1.685556e+09</td>\n",
       "      <td>0</td>\n",
       "      <td>13wtgpv</td>\n",
       "      <td>None</td>\n",
       "      <td>None</td>\n",
       "      <td>{}</td>\n",
       "      <td>/r/spinalfusion/comments/13wtgpv/just_got_told...</td>\n",
       "      <td>Just got told I need l4 and l5 360 fusion. I h...</td>\n",
       "      <td>I can add images if needed but if anyone could...</td>\n",
       "      <td>1</td>\n",
       "      <td>1.0</td>\n",
       "      <td>None</td>\n",
       "    </tr>\n",
       "  </tbody>\n",
       "</table>\n",
       "</div>"
      ],
      "text/plain": [
       "  all_awardings          author   created_utc  downs       id likes media  \\\n",
       "0            []  BloodRedPlanet  1.685557e+09      0  13wtu2w  None  None   \n",
       "1            []         engacad  1.685557e+09      0  13wtla9  None  None   \n",
       "2            []  motorboaters0b  1.685556e+09      0  13wtgpv  None  None   \n",
       "\n",
       "  media_embed                                          permalink  \\\n",
       "0          {}  /r/spinalfusion/comments/13wtu2w/frontal_tempo...   \n",
       "1          {}  /r/spinalfusion/comments/13wtla9/transforamina...   \n",
       "2          {}  /r/spinalfusion/comments/13wtgpv/just_got_told...   \n",
       "\n",
       "                                               title  \\\n",
       "0  frontal temporal headaches, right side 8 weeks...   \n",
       "1  Transforaminal diagnostic nerve root block rec...   \n",
       "2  Just got told I need l4 and l5 360 fusion. I h...   \n",
       "\n",
       "                                            selftext  ups  upvote_ratio  \\\n",
       "0  Hello,\\n\\nI'm getting headaches with numbness/...    1           1.0   \n",
       "1  I have an appointment for \"transforaminal\" Cer...    1           1.0   \n",
       "2  I can add images if needed but if anyone could...    1           1.0   \n",
       "\n",
       "  view_count  \n",
       "0       None  \n",
       "1       None  \n",
       "2       None  "
      ]
     },
     "execution_count": 13,
     "metadata": {},
     "output_type": "execute_result"
    }
   ],
   "source": [
    "print(df.shape)\n",
    "df.head(3)"
   ]
  },
  {
   "cell_type": "code",
   "execution_count": 14,
   "metadata": {},
   "outputs": [],
   "source": [
    "df['created_utc'] = df['created_utc'].apply(lambda x: pd.to_datetime(x, unit='s'))"
   ]
  },
  {
   "cell_type": "code",
   "execution_count": 22,
   "metadata": {},
   "outputs": [
    {
     "data": {
      "text/plain": [
       "'I’ve been recently cleared for PT at 8 weeks based on the outcome of my x-ray and CT scan. However, I read some comments about doctors delaying PT, because of concerns that it could interfere with fusion.  Anyone have any insights to share on this topic?  \\n\\nAlso, interestingly, my surgeon did not schedule any follow ups beyond my latest imaging. He basically just said that the CT scan confirmed bone growth and the patient instructions indicate to contact him, if needed.  So that seems like that’s it…(?).  I guess that’s a positive sign.'"
      ]
     },
     "execution_count": 22,
     "metadata": {},
     "output_type": "execute_result"
    }
   ],
   "source": [
    "df.at[9, 'selftext']"
   ]
  },
  {
   "cell_type": "code",
   "execution_count": 21,
   "metadata": {},
   "outputs": [
    {
     "name": "stderr",
     "output_type": "stream",
     "text": [
      "/var/folders/lk/lhmn07j501l6rng06tjrl8cm0000gn/T/ipykernel_73820/3363188970.py:1: PerformanceWarning: \n",
      "your performance may suffer as PyTables will pickle object types that it cannot\n",
      "map directly to c-types [inferred_type->mixed,key->block0_values] [items->Index(['all_awardings', 'author', 'id', 'likes', 'media', 'media_embed',\n",
      "       'permalink', 'title', 'selftext', 'view_count'],\n",
      "      dtype='object')]\n",
      "\n",
      "  df.to_hdf('data/reddit_process.h5', key='df', mode='w')\n"
     ]
    }
   ],
   "source": [
    "df.to_hdf('data/reddit_process.h5', key='df', mode='w')\n",
    "df.to_csv('data/reddit_process.csv', encoding='utf-8-sig')"
   ]
  },
  {
   "cell_type": "code",
   "execution_count": 6,
   "metadata": {},
   "outputs": [
    {
     "data": {
      "text/plain": [
       "'Date range of posts: 2022-10-16 23:48:25 to 2023-05-31 18:22:08'"
      ]
     },
     "execution_count": 6,
     "metadata": {},
     "output_type": "execute_result"
    }
   ],
   "source": [
    "f\"Date range of posts: {df.iat[-1, 2]} to {df.iat[0, 2]}\""
   ]
  },
  {
   "attachments": {},
   "cell_type": "markdown",
   "metadata": {},
   "source": [
    "# Tone analysis\n",
    "\n",
    "Checking the tone of submissions"
   ]
  },
  {
   "cell_type": "code",
   "execution_count": 3,
   "metadata": {},
   "outputs": [],
   "source": [
    "from transformers import AutoModelForSequenceClassification\n",
    "from transformers import AutoTokenizer, AutoConfig\n",
    "from tqdm import tqdm\n",
    "\n",
    "def init_model(model_path: str):\n",
    "    tokenizer = AutoTokenizer.from_pretrained(model_path)\n",
    "    config = AutoConfig.from_pretrained(model_path)\n",
    "    model = AutoModelForSequenceClassification.from_pretrained(model_path)\n",
    "\n",
    "    return (tokenizer, config, model)"
   ]
  },
  {
   "cell_type": "code",
   "execution_count": 79,
   "metadata": {},
   "outputs": [
    {
     "name": "stderr",
     "output_type": "stream",
     "text": [
      "Some weights of the model checkpoint at cardiffnlp/twitter-roberta-base-sentiment-latest were not used when initializing RobertaForSequenceClassification: ['roberta.pooler.dense.weight', 'roberta.pooler.dense.bias']\n",
      "- This IS expected if you are initializing RobertaForSequenceClassification from the checkpoint of a model trained on another task or with another architecture (e.g. initializing a BertForSequenceClassification model from a BertForPreTraining model).\n",
      "- This IS NOT expected if you are initializing RobertaForSequenceClassification from the checkpoint of a model that you expect to be exactly identical (initializing a BertForSequenceClassification model from a BertForSequenceClassification model).\n"
     ]
    }
   ],
   "source": [
    "tone_tokenizer, tone_config, tone_model = init_model(\"cardiffnlp/twitter-roberta-base-sentiment-latest\")\n"
   ]
  },
  {
   "cell_type": "code",
   "execution_count": 80,
   "metadata": {},
   "outputs": [
    {
     "data": {
      "text/plain": [
       "{'negative': 0.7235762, 'neutral': 0.22867934, 'positive': 0.04774447}"
      ]
     },
     "execution_count": 80,
     "metadata": {},
     "output_type": "execute_result"
    }
   ],
   "source": [
    "from scipy.special import softmax\n",
    "import numpy as np\n",
    "\n",
    "tone_labels = ['negative', 'neutral', 'positive']\n",
    "\n",
    "def sentiment_analysis(text: str):\n",
    "  encoded_input = tone_tokenizer(text, max_length=512, truncation=True, return_tensors='pt')\n",
    "  output = tone_model(**encoded_input)\n",
    "  scores = output[0][0].detach().numpy()\n",
    "  scores = softmax(scores)\n",
    "\n",
    "  ranking = np.argsort(scores)\n",
    "  ranking = ranking[::-1]\n",
    "\n",
    "  output = {k: 0.0 for k in tone_labels}\n",
    "\n",
    "  for i in range(scores.shape[0]):\n",
    "      k = tone_config.id2label[ranking[i]]\n",
    "      output[k] = scores[ranking[i]]\n",
    "  \n",
    "  return output\n",
    "\n",
    "sentiment_analysis(\"Covid cases are increasing fast!\")"
   ]
  },
  {
   "cell_type": "code",
   "execution_count": 40,
   "metadata": {},
   "outputs": [],
   "source": [
    "for k in tone_labels:\n",
    "    df[k] = 0.0"
   ]
  },
  {
   "cell_type": "code",
   "execution_count": 41,
   "metadata": {},
   "outputs": [],
   "source": [
    "for id in tqdm(df.index):\n",
    "    output = sentiment_analysis(df.at[id, 'selftext'])\n",
    "    for k in tone_labels:\n",
    "        df.at[id, k] = output[k]"
   ]
  },
  {
   "cell_type": "code",
   "execution_count": 76,
   "metadata": {},
   "outputs": [],
   "source": [
    "df['tone'] = df[tone_labels].idxmax(axis=1)"
   ]
  },
  {
   "cell_type": "code",
   "execution_count": 73,
   "metadata": {},
   "outputs": [
    {
     "name": "stderr",
     "output_type": "stream",
     "text": [
      "/var/folders/lk/lhmn07j501l6rng06tjrl8cm0000gn/T/ipykernel_73820/3419590272.py:1: PerformanceWarning: \n",
      "your performance may suffer as PyTables will pickle object types that it cannot\n",
      "map directly to c-types [inferred_type->mixed,key->block3_values] [items->Index(['all_awardings', 'author', 'id', 'likes', 'media', 'media_embed',\n",
      "       'permalink', 'title', 'selftext', 'view_count', 'tone'],\n",
      "      dtype='object')]\n",
      "\n",
      "  df.to_hdf('data/reddit_process2.h5', key='df', mode='w')\n"
     ]
    }
   ],
   "source": [
    "df.to_hdf('data/reddit_process2.h5', key='df', mode='w')\n",
    "df.to_csv('data/reddit_process2.csv', encoding='utf-8-sig')"
   ]
  },
  {
   "cell_type": "code",
   "execution_count": 11,
   "metadata": {},
   "outputs": [
    {
     "data": {
      "text/plain": [
       "(array([0. , 0.2, 0.4, 0.6, 0.8, 1. ]),\n",
       " [Text(0.0, 0, '0.0'),\n",
       "  Text(0.2, 0, '0.2'),\n",
       "  Text(0.4, 0, '0.4'),\n",
       "  Text(0.6000000000000001, 0, '0.6'),\n",
       "  Text(0.8, 0, '0.8'),\n",
       "  Text(1.0, 0, '1.0')])"
      ]
     },
     "execution_count": 11,
     "metadata": {},
     "output_type": "execute_result"
    },
    {
     "data": {
      "image/png": "[encoded data removed]",
      "text/plain": [
       "<Figure size 640x480 with 1 Axes>"
      ]
     },
     "metadata": {},
     "output_type": "display_data"
    }
   ],
   "source": [
    "import matplotlib.pyplot as plt\n",
    "import seaborn as sns\n",
    "\n",
    "sns.set_theme()\n",
    "plt.xticks(rotation=45, ha='right')"
   ]
  },
  {
   "cell_type": "code",
   "execution_count": 77,
   "metadata": {},
   "outputs": [
    {
     "data": {
      "image/png": "[encoded data removed]",
      "text/plain": [
       "<Figure size 640x480 with 1 Axes>"
      ]
     },
     "metadata": {},
     "output_type": "display_data"
    }
   ],
   "source": [
    "fig, ax = plt.subplots()\n",
    "ax = df['tone'].value_counts().plot(kind='bar')\n",
    "\n",
    "plt.show()"
   ]
  },
  {
   "attachments": {},
   "cell_type": "markdown",
   "metadata": {},
   "source": [
    "# Emotion Analysis\n",
    "\n",
    "Checking the emotion of submissions"
   ]
  },
  {
   "cell_type": "code",
   "execution_count": 81,
   "metadata": {},
   "outputs": [
    {
     "name": "stderr",
     "output_type": "stream",
     "text": [
      "Downloading (…)okenizer_config.json: 100%|██████████| 291/291 [00:00<00:00, 1.89MB/s]\n",
      "Downloading (…)lve/main/config.json: 100%|██████████| 768/768 [00:00<00:00, 7.24MB/s]\n",
      "Downloading (…)solve/main/vocab.txt: 100%|██████████| 232k/232k [00:00<00:00, 4.06MB/s]\n",
      "Downloading (…)cial_tokens_map.json: 100%|██████████| 112/112 [00:00<00:00, 1.17MB/s]\n",
      "Downloading pytorch_model.bin: 100%|██████████| 268M/268M [00:10<00:00, 26.1MB/s] \n"
     ]
    }
   ],
   "source": [
    "emotion_tokenizer, emotion_config, emotion_model = init_model(\"bhadresh-savani/distilbert-base-uncased-emotion\")\n"
   ]
  },
  {
   "cell_type": "code",
   "execution_count": 84,
   "metadata": {},
   "outputs": [
    {
     "data": {
      "text/plain": [
       "{'sadness': 0.011512356,\n",
       " 'joy': 0.87378865,\n",
       " 'love': 0.0020575337,\n",
       " 'anger': 0.082321994,\n",
       " 'fear': 0.026589949,\n",
       " 'surprise': 0.003729473}"
      ]
     },
     "execution_count": 84,
     "metadata": {},
     "output_type": "execute_result"
    }
   ],
   "source": [
    "from scipy.special import softmax\n",
    "import numpy as np\n",
    "\n",
    "emotion_labels = ['sadness', 'joy', 'love', 'anger', 'fear', 'surprise']\n",
    "\n",
    "def emotion_analysis(text: str):\n",
    "  encoded_input = emotion_tokenizer(text, max_length=512, truncation=True, return_tensors='pt')\n",
    "  output = emotion_model(**encoded_input)\n",
    "  scores = output[0][0].detach().numpy()\n",
    "  scores = softmax(scores)\n",
    "\n",
    "  ranking = np.argsort(scores)\n",
    "  ranking = ranking[::-1]\n",
    "\n",
    "  output = {k: 0.0 for k in emotion_labels}\n",
    "\n",
    "  for i in range(scores.shape[0]):\n",
    "      k = emotion_config.id2label[ranking[i]]\n",
    "      output[k] = scores[ranking[i]]\n",
    "  \n",
    "  return output\n",
    "\n",
    "emotion_analysis(\"Covid cases are increasing fast!\")"
   ]
  },
  {
   "cell_type": "code",
   "execution_count": 85,
   "metadata": {},
   "outputs": [],
   "source": [
    "for k in emotion_labels:\n",
    "    df[k] = 0.0"
   ]
  },
  {
   "cell_type": "code",
   "execution_count": 86,
   "metadata": {},
   "outputs": [],
   "source": [
    "for id in tqdm(df.index):\n",
    "    output = emotion_analysis(df.at[id, 'selftext'])\n",
    "    for k in emotion_labels:\n",
    "        df.at[id, k] = output[k]"
   ]
  },
  {
   "cell_type": "code",
   "execution_count": 87,
   "metadata": {},
   "outputs": [],
   "source": [
    "df['emotion'] = df[emotion_labels].idxmax(axis=1)"
   ]
  },
  {
   "cell_type": "code",
   "execution_count": 88,
   "metadata": {},
   "outputs": [
    {
     "data": {
      "image/png": "[encoded data removed]",
      "text/plain": [
       "<Figure size 640x480 with 1 Axes>"
      ]
     },
     "metadata": {},
     "output_type": "display_data"
    }
   ],
   "source": [
    "fig, ax = plt.subplots()\n",
    "ax = df['emotion'].value_counts().plot(kind='bar')\n",
    "\n",
    "plt.show()"
   ]
  },
  {
   "cell_type": "code",
   "execution_count": 89,
   "metadata": {},
   "outputs": [
    {
     "name": "stderr",
     "output_type": "stream",
     "text": [
      "/var/folders/lk/lhmn07j501l6rng06tjrl8cm0000gn/T/ipykernel_73820/4011226189.py:1: PerformanceWarning: \n",
      "your performance may suffer as PyTables will pickle object types that it cannot\n",
      "map directly to c-types [inferred_type->mixed,key->block3_values] [items->Index(['all_awardings', 'author', 'id', 'likes', 'media', 'media_embed',\n",
      "       'permalink', 'title', 'selftext', 'view_count', 'tone', 'emotion'],\n",
      "      dtype='object')]\n",
      "\n",
      "  df.to_hdf('data/reddit_process3.h5', key='df', mode='w')\n"
     ]
    }
   ],
   "source": [
    "df.to_hdf('data/reddit_process3.h5', key='df', mode='w')\n",
    "df.to_csv('data/reddit_process3.csv', encoding='utf-8-sig')"
   ]
  },
  {
   "attachments": {},
   "cell_type": "markdown",
   "metadata": {},
   "source": [
    "# Zero-shot classification\n",
    "\n",
    "Classification of submissions based on certain categories"
   ]
  },
  {
   "cell_type": "code",
   "execution_count": 4,
   "metadata": {},
   "outputs": [],
   "source": [
    "df = pd.read_hdf('data/reddit_process3.h5', key='df')"
   ]
  },
  {
   "cell_type": "code",
   "execution_count": 5,
   "metadata": {},
   "outputs": [],
   "source": [
    "from transformers import pipeline\n",
    "\n",
    "zs_classifier = pipeline(\"zero-shot-classification\", model=\"facebook/bart-large-mnli\")"
   ]
  },
  {
   "cell_type": "code",
   "execution_count": 6,
   "metadata": {},
   "outputs": [
    {
     "data": {
      "text/plain": [
       "{'clinical update': 0.5231243371963501,\n",
       " 'supporting the community': 0.11439959704875946,\n",
       " 'asking a question': 0.23238550126552582,\n",
       " 'educational': 0.03421812877058983,\n",
       " 'advocating for surgery': 0.02536778897047043,\n",
       " 'advising against surgery': 0.01842709630727768,\n",
       " 'other': 0.05207764729857445}"
      ]
     },
     "execution_count": 6,
     "metadata": {},
     "output_type": "execute_result"
    }
   ],
   "source": [
    "theme_labels = ['clinical update', 'supporting the community', 'asking a question', 'educational', 'advocating for surgery', 'advising against surgery', 'other']\n",
    "\n",
    "def theme_analysis(text: str, multi_label=False):\n",
    "  res = zs_classifier(text, theme_labels, multi_label=multi_label)\n",
    "\n",
    "  output = {k: 0.0 for k in theme_labels}\n",
    "\n",
    "  for k, score in zip(res['labels'], res['scores']):\n",
    "      output[k] = score\n",
    "  \n",
    "  return output\n",
    "\n",
    "theme_analysis(\"Covid cases are increasing fast!\")"
   ]
  },
  {
   "cell_type": "code",
   "execution_count": 7,
   "metadata": {},
   "outputs": [],
   "source": [
    "for k in theme_labels:\n",
    "    df[k] = 0.0"
   ]
  },
  {
   "cell_type": "code",
   "execution_count": 8,
   "metadata": {},
   "outputs": [
    {
     "name": "stderr",
     "output_type": "stream",
     "text": [
      "100%|██████████| 994/994 [38:51<00:00,  2.35s/it]  \n"
     ]
    }
   ],
   "source": [
    "for id in tqdm(df.index):\n",
    "    selftext = df.at[id, 'selftext']\n",
    "    if len(selftext) == 0:\n",
    "        continue\n",
    "    output = theme_analysis(selftext)\n",
    "    for k in theme_labels:\n",
    "        df.at[id, k] = output[k]"
   ]
  },
  {
   "cell_type": "code",
   "execution_count": 9,
   "metadata": {},
   "outputs": [],
   "source": [
    "df['theme'] = df[theme_labels].idxmax(axis=1)"
   ]
  },
  {
   "cell_type": "code",
   "execution_count": 12,
   "metadata": {},
   "outputs": [
    {
     "data": {
      "image/png": "[encoded data removed]",
      "text/plain": [
       "<Figure size 640x480 with 1 Axes>"
      ]
     },
     "metadata": {},
     "output_type": "display_data"
    }
   ],
   "source": [
    "fig, ax = plt.subplots()\n",
    "ax = df['theme'].value_counts().plot(kind='bar')\n",
    "\n",
    "plt.show()"
   ]
  },
  {
   "cell_type": "code",
   "execution_count": 13,
   "metadata": {},
   "outputs": [
    {
     "name": "stderr",
     "output_type": "stream",
     "text": [
      "/var/folders/lk/lhmn07j501l6rng06tjrl8cm0000gn/T/ipykernel_87719/2136159091.py:1: PerformanceWarning: \n",
      "your performance may suffer as PyTables will pickle object types that it cannot\n",
      "map directly to c-types [inferred_type->mixed,key->block3_values] [items->Index(['all_awardings', 'author', 'id', 'likes', 'media', 'media_embed',\n",
      "       'permalink', 'title', 'selftext', 'view_count', 'tone', 'emotion',\n",
      "       'theme'],\n",
      "      dtype='object')]\n",
      "\n",
      "  df.to_hdf('data/reddit_process4_2.h5', key='df', mode='w')\n"
     ]
    }
   ],
   "source": [
    "df.to_hdf('data/reddit_process4_2.h5', key='df', mode='w')\n",
    "df.to_csv('data/reddit_process4_2.csv', encoding='utf-8-sig')"
   ]
  },
  {
   "attachments": {},
   "cell_type": "markdown",
   "metadata": {},
   "source": [
    "# Natural Language Inference (NLI)\n",
    "\n",
    "In NLI the model determines the relationship between two given texts. Concretely, the model takes a premise and a hypothesis and returns a class that can either be:\n",
    "\n",
    "- **entailment**, which means the hypothesis is true.\n",
    "- **contraction**, which means the hypothesis is false.\n",
    "- **neutral**, which means there's no relation between the hypothesis and the premise.\n",
    "\n",
    "### Multi-Genre NLI (MNLI)\n",
    "\n",
    "```\n",
    "Example 1:\n",
    "    Premise: A man inspects the uniform of a figure in some East Asian country.\n",
    "    Hypothesis: The man is sleeping.\n",
    "    Label: Contradiction\n",
    "\n",
    "Example 2:\n",
    "    Premise: Soccer game with multiple males playing.\n",
    "    Hypothesis: Some men are playing a sport.\n",
    "    Label: Entailment\n",
    "```"
   ]
  },
  {
   "cell_type": "code",
   "execution_count": 130,
   "metadata": {},
   "outputs": [
    {
     "data": {
      "text/html": [
       "<div>\n",
       "<style scoped>\n",
       "    .dataframe tbody tr th:only-of-type {\n",
       "        vertical-align: middle;\n",
       "    }\n",
       "\n",
       "    .dataframe tbody tr th {\n",
       "        vertical-align: top;\n",
       "    }\n",
       "\n",
       "    .dataframe thead th {\n",
       "        text-align: right;\n",
       "    }\n",
       "</style>\n",
       "<table border=\"1\" class=\"dataframe\">\n",
       "  <thead>\n",
       "    <tr style=\"text-align: right;\">\n",
       "      <th></th>\n",
       "      <th>title</th>\n",
       "      <th>media</th>\n",
       "      <th>media_embed</th>\n",
       "    </tr>\n",
       "  </thead>\n",
       "  <tbody>\n",
       "    <tr>\n",
       "      <th>3</th>\n",
       "      <td>1 week post-op t5-l4 fusion! Looking for some ...</td>\n",
       "      <td>None</td>\n",
       "      <td>{}</td>\n",
       "    </tr>\n",
       "    <tr>\n",
       "      <th>7</th>\n",
       "      <td>I posted the other day about new shooting leg ...</td>\n",
       "      <td>None</td>\n",
       "      <td>{}</td>\n",
       "    </tr>\n",
       "    <tr>\n",
       "      <th>14</th>\n",
       "      <td>Anybody else get an infection and how did yall...</td>\n",
       "      <td>None</td>\n",
       "      <td>{}</td>\n",
       "    </tr>\n",
       "    <tr>\n",
       "      <th>23</th>\n",
       "      <td>6 weeks post ALIF 360 and on Thursday evening ...</td>\n",
       "      <td>None</td>\n",
       "      <td>{}</td>\n",
       "    </tr>\n",
       "    <tr>\n",
       "      <th>28</th>\n",
       "      <td>10 weeks out from L5 S1. Lifted around 8 pound...</td>\n",
       "      <td>None</td>\n",
       "      <td>{}</td>\n",
       "    </tr>\n",
       "    <tr>\n",
       "      <th>...</th>\n",
       "      <td>...</td>\n",
       "      <td>...</td>\n",
       "      <td>...</td>\n",
       "    </tr>\n",
       "    <tr>\n",
       "      <th>968</th>\n",
       "      <td>1 year post op and still struggling to lose th...</td>\n",
       "      <td>None</td>\n",
       "      <td>{}</td>\n",
       "    </tr>\n",
       "    <tr>\n",
       "      <th>969</th>\n",
       "      <td>Anyone have an acdf c5 - 7 to treat cervical m...</td>\n",
       "      <td>None</td>\n",
       "      <td>{}</td>\n",
       "    </tr>\n",
       "    <tr>\n",
       "      <th>976</th>\n",
       "      <td>Having my 3rd surgery Wednesday. Wish me luck…</td>\n",
       "      <td>None</td>\n",
       "      <td>{}</td>\n",
       "    </tr>\n",
       "    <tr>\n",
       "      <th>982</th>\n",
       "      <td>Three week follow up</td>\n",
       "      <td>None</td>\n",
       "      <td>{}</td>\n",
       "    </tr>\n",
       "    <tr>\n",
       "      <th>987</th>\n",
       "      <td>I'm 21 had my fusion almost a year ago whats t...</td>\n",
       "      <td>None</td>\n",
       "      <td>{}</td>\n",
       "    </tr>\n",
       "  </tbody>\n",
       "</table>\n",
       "<p>134 rows × 3 columns</p>\n",
       "</div>"
      ],
      "text/plain": [
       "                                                 title media media_embed\n",
       "3    1 week post-op t5-l4 fusion! Looking for some ...  None          {}\n",
       "7    I posted the other day about new shooting leg ...  None          {}\n",
       "14   Anybody else get an infection and how did yall...  None          {}\n",
       "23   6 weeks post ALIF 360 and on Thursday evening ...  None          {}\n",
       "28   10 weeks out from L5 S1. Lifted around 8 pound...  None          {}\n",
       "..                                                 ...   ...         ...\n",
       "968  1 year post op and still struggling to lose th...  None          {}\n",
       "969  Anyone have an acdf c5 - 7 to treat cervical m...  None          {}\n",
       "976     Having my 3rd surgery Wednesday. Wish me luck…  None          {}\n",
       "982                               Three week follow up  None          {}\n",
       "987  I'm 21 had my fusion almost a year ago whats t...  None          {}\n",
       "\n",
       "[134 rows x 3 columns]"
      ]
     },
     "execution_count": 130,
     "metadata": {},
     "output_type": "execute_result"
    }
   ],
   "source": [
    "df.loc[df['selftext'] == '', ['title', 'media', 'media_embed']]"
   ]
  },
  {
   "cell_type": "code",
   "execution_count": null,
   "metadata": {},
   "outputs": [],
   "source": []
  }
 ],
 "metadata": {
  "kernelspec": {
   "display_name": "fusion_analysis-xH46poxW",
   "language": "python",
   "name": "python3"
  },
  "language_info": {
   "codemirror_mode": {
    "name": "ipython",
    "version": 3
   },
   "file_extension": ".py",
   "mimetype": "text/x-python",
   "name": "python",
   "nbconvert_exporter": "python",
   "pygments_lexer": "ipython3",
   "version": "3.11.3"
  },
  "orig_nbformat": 4
 },
 "nbformat": 4,
 "nbformat_minor": 2
}
