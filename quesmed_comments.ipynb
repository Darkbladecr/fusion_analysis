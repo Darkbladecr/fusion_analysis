{
 "cells": [
  {
   "attachments": {},
   "cell_type": "markdown",
   "metadata": {},
   "source": [
    "# Downloading data from Quesmed\n",
    "\n",
    "Direct DB connection to download the latest comments"
   ]
  },
  {
   "cell_type": "code",
   "execution_count": 10,
   "metadata": {},
   "outputs": [],
   "source": [
    "import psycopg2\n",
    "from dotenv import load_dotenv\n",
    "import os\n",
    "\n",
    "load_dotenv()\n",
    "\n",
    "conn = psycopg2.connect(\n",
    "  dbname=os.getenv(\"POSTGRES_DB\"),\n",
    "  user=os.getenv(\"POSTGRES_USER\"),\n",
    "  password=os.getenv(\"POSTGRES_PASSWORD\"),\n",
    "  port=os.getenv(\"POSTGRES_PORT\"),\n",
    "  host=os.getenv(\"POSTGRES_HOST\")\n",
    ")"
   ]
  },
  {
   "cell_type": "code",
   "execution_count": 11,
   "metadata": {},
   "outputs": [
    {
     "data": {
      "text/plain": [
       "{'id': [],\n",
       " 'createdAt': [],\n",
       " 'userId': [],\n",
       " 'userCreatedAt': [],\n",
       " 'classYear': [],\n",
       " 'universityId': [],\n",
       " 'country': [],\n",
       " 'universityName': [],\n",
       " 'parentId': [],\n",
       " 'questionId': [],\n",
       " 'comment': [],\n",
       " 'review': []}"
      ]
     },
     "execution_count": 11,
     "metadata": {},
     "output_type": "execute_result"
    }
   ],
   "source": [
    "keys = (\n",
    "  'id', \n",
    "  'createdAt', \n",
    "  'userId', \n",
    "  'userCreatedAt', \n",
    "  'classYear', \n",
    "  'universityId',\n",
    "  'country',\n",
    "  'universityName',\n",
    "  'parentId',\n",
    "  'questionId',\n",
    "  'comment',\n",
    "  'review'\n",
    ")\n",
    "data_map = {k: [] for k in keys}\n",
    "data_map"
   ]
  },
  {
   "cell_type": "code",
   "execution_count": 13,
   "metadata": {},
   "outputs": [
    {
     "name": "stdout",
     "output_type": "stream",
     "text": [
      "(22514, 16)\n"
     ]
    },
    {
     "data": {
      "text/html": [
       "<div>\n",
       "<style scoped>\n",
       "    .dataframe tbody tr th:only-of-type {\n",
       "        vertical-align: middle;\n",
       "    }\n",
       "\n",
       "    .dataframe tbody tr th {\n",
       "        vertical-align: top;\n",
       "    }\n",
       "\n",
       "    .dataframe thead th {\n",
       "        text-align: right;\n",
       "    }\n",
       "</style>\n",
       "<table border=\"1\" class=\"dataframe\">\n",
       "  <thead>\n",
       "    <tr style=\"text-align: right;\">\n",
       "      <th></th>\n",
       "      <th>id</th>\n",
       "      <th>createdAt</th>\n",
       "      <th>userId</th>\n",
       "      <th>userCreatedAt</th>\n",
       "      <th>classYear</th>\n",
       "      <th>universityId</th>\n",
       "      <th>country</th>\n",
       "      <th>universityName</th>\n",
       "      <th>parentId</th>\n",
       "      <th>questionId</th>\n",
       "      <th>comment</th>\n",
       "      <th>review</th>\n",
       "      <th>chapter_explanation_update</th>\n",
       "      <th>question_update</th>\n",
       "      <th>question_explanation_update</th>\n",
       "      <th>qc_explanation_update</th>\n",
       "    </tr>\n",
       "  </thead>\n",
       "  <tbody>\n",
       "    <tr>\n",
       "      <th>1346</th>\n",
       "      <td>2165</td>\n",
       "      <td>2021-05-18 11:11:54.771000+00:00</td>\n",
       "      <td>5750</td>\n",
       "      <td>2021-03-29 06:25:29.014000+00:00</td>\n",
       "      <td>Year 4</td>\n",
       "      <td>2662</td>\n",
       "      <td>United Kingdom</td>\n",
       "      <td>University of Nottingham</td>\n",
       "      <td>NaN</td>\n",
       "      <td>3835</td>\n",
       "      <td>in a 14y/old... not likely</td>\n",
       "      <td>False</td>\n",
       "      <td>None</td>\n",
       "      <td>None</td>\n",
       "      <td>None</td>\n",
       "      <td>None</td>\n",
       "    </tr>\n",
       "    <tr>\n",
       "      <th>22457</th>\n",
       "      <td>27958</td>\n",
       "      <td>2023-06-05 18:25:15.439965+00:00</td>\n",
       "      <td>1280</td>\n",
       "      <td>2019-04-08 16:57:55.447000+00:00</td>\n",
       "      <td>Year 4</td>\n",
       "      <td>2620</td>\n",
       "      <td>United Kingdom</td>\n",
       "      <td>University College London (UCL)</td>\n",
       "      <td>15670.0</td>\n",
       "      <td>4807</td>\n",
       "      <td>Should have spent more time in GP</td>\n",
       "      <td>False</td>\n",
       "      <td>None</td>\n",
       "      <td>None</td>\n",
       "      <td>None</td>\n",
       "      <td>None</td>\n",
       "    </tr>\n",
       "    <tr>\n",
       "      <th>6837</th>\n",
       "      <td>9772</td>\n",
       "      <td>2022-04-13 18:01:49.252324+00:00</td>\n",
       "      <td>5090</td>\n",
       "      <td>2021-03-10 14:40:42.761000+00:00</td>\n",
       "      <td>Year 4</td>\n",
       "      <td>2530</td>\n",
       "      <td>United Kingdom</td>\n",
       "      <td>Anglia Ruskin University</td>\n",
       "      <td>3759.0</td>\n",
       "      <td>3047</td>\n",
       "      <td>Spend more time on wards.</td>\n",
       "      <td>False</td>\n",
       "      <td>None</td>\n",
       "      <td>None</td>\n",
       "      <td>None</td>\n",
       "      <td>None</td>\n",
       "    </tr>\n",
       "  </tbody>\n",
       "</table>\n",
       "</div>"
      ],
      "text/plain": [
       "          id                        createdAt  userId  \\\n",
       "1346    2165 2021-05-18 11:11:54.771000+00:00    5750   \n",
       "22457  27958 2023-06-05 18:25:15.439965+00:00    1280   \n",
       "6837    9772 2022-04-13 18:01:49.252324+00:00    5090   \n",
       "\n",
       "                         userCreatedAt classYear  universityId  \\\n",
       "1346  2021-03-29 06:25:29.014000+00:00    Year 4          2662   \n",
       "22457 2019-04-08 16:57:55.447000+00:00    Year 4          2620   \n",
       "6837  2021-03-10 14:40:42.761000+00:00    Year 4          2530   \n",
       "\n",
       "              country                   universityName  parentId  questionId  \\\n",
       "1346   United Kingdom         University of Nottingham       NaN        3835   \n",
       "22457  United Kingdom  University College London (UCL)   15670.0        4807   \n",
       "6837   United Kingdom         Anglia Ruskin University    3759.0        3047   \n",
       "\n",
       "                                 comment review chapter_explanation_update  \\\n",
       "1346          in a 14y/old... not likely  False                       None   \n",
       "22457  Should have spent more time in GP  False                       None   \n",
       "6837           Spend more time on wards.  False                       None   \n",
       "\n",
       "      question_update question_explanation_update qc_explanation_update  \n",
       "1346             None                        None                  None  \n",
       "22457            None                        None                  None  \n",
       "6837             None                        None                  None  "
      ]
     },
     "execution_count": 13,
     "metadata": {},
     "output_type": "execute_result"
    }
   ],
   "source": [
    "import pandas as pd\n",
    "\n",
    "update_keys = (\n",
    "    'chapter_explanation_update',\n",
    "    'question_update',\n",
    "    'question_explanation_update',\n",
    "    'qc_explanation_update'\n",
    ")\n",
    "\n",
    "file_path = \"data/comments.h5\"\n",
    "\n",
    "def load_df():\n",
    "  if os.path.isfile(file_path):\n",
    "    df = pd.read_hdf(file_path, key='df')\n",
    "    return df\n",
    "\n",
    "  cur = conn.cursor()\n",
    "  cur.execute(\"\"\"\n",
    "  SELECT\n",
    "    com.id,\n",
    "    com.\"createdAt\",\n",
    "    com.\"userId\",\n",
    "    u.\"createdAt\" \"userCreatedAt\",\n",
    "    u.\"classYear\",\n",
    "    u.\"universityId\",\n",
    "    uni.country,\n",
    "    uni.name \"universityName\",\n",
    "    com.\"parentId\",\n",
    "    com.\"questionId\",\n",
    "    com.comment,\n",
    "    com.review\n",
    "  FROM\n",
    "    question_comments com\n",
    "    INNER JOIN users u ON com.\"userId\" = u.id\n",
    "    INNER JOIN universities uni ON u.\"universityId\" = uni.id\n",
    "  ORDER BY\n",
    "    com.\"createdAt\" ASC\n",
    "  \"\"\")\n",
    "\n",
    "  batch_size = 1000\n",
    "  loading = True\n",
    "  while loading:\n",
    "      data = cur.fetchmany(batch_size)\n",
    "      if len(data) < batch_size:\n",
    "          loading = False\n",
    "      for row in data:\n",
    "          for i, k in enumerate(keys):\n",
    "              data_map[k].append(row[i])\n",
    "      \n",
    "  cur.close()\n",
    "\n",
    "  df = pd.DataFrame.from_dict(data_map)\n",
    "  for k in update_keys:\n",
    "     df[k] = None\n",
    "  df.to_hdf(file_path, key='df', mode='w')\n",
    "  return df\n",
    "\n",
    "df = load_df()\n",
    "print(df.shape)\n",
    "df.sample(3)"
   ]
  },
  {
   "attachments": {},
   "cell_type": "markdown",
   "metadata": {},
   "source": [
    "## Processing DataFrame"
   ]
  },
  {
   "cell_type": "code",
   "execution_count": 16,
   "metadata": {},
   "outputs": [
    {
     "data": {
      "text/plain": [
       "'Date range of comments: 2021-03-25 11:22:56.133000+00:00 to 2023-06-06 13:36:07.926041+00:00'"
      ]
     },
     "execution_count": 16,
     "metadata": {},
     "output_type": "execute_result"
    }
   ],
   "source": [
    "f\"Date range of comments: {df.iat[0, 1]} to {df.iat[-1, 1]}\""
   ]
  },
  {
   "attachments": {},
   "cell_type": "markdown",
   "metadata": {},
   "source": [
    "# Tone analysis\n",
    "\n",
    "Checking the tone of submissions"
   ]
  },
  {
   "cell_type": "code",
   "execution_count": 17,
   "metadata": {},
   "outputs": [],
   "source": [
    "from transformers import AutoModelForSequenceClassification\n",
    "from transformers import AutoTokenizer, AutoConfig\n",
    "from tqdm import tqdm\n",
    "\n",
    "def init_model(model_path: str):\n",
    "    tokenizer = AutoTokenizer.from_pretrained(model_path)\n",
    "    config = AutoConfig.from_pretrained(model_path)\n",
    "    model = AutoModelForSequenceClassification.from_pretrained(model_path)\n",
    "\n",
    "    return (tokenizer, config, model)"
   ]
  },
  {
   "cell_type": "code",
   "execution_count": 18,
   "metadata": {},
   "outputs": [
    {
     "name": "stderr",
     "output_type": "stream",
     "text": [
      "Some weights of the model checkpoint at cardiffnlp/twitter-roberta-base-sentiment-latest were not used when initializing RobertaForSequenceClassification: ['roberta.pooler.dense.bias', 'roberta.pooler.dense.weight']\n",
      "- This IS expected if you are initializing RobertaForSequenceClassification from the checkpoint of a model trained on another task or with another architecture (e.g. initializing a BertForSequenceClassification model from a BertForPreTraining model).\n",
      "- This IS NOT expected if you are initializing RobertaForSequenceClassification from the checkpoint of a model that you expect to be exactly identical (initializing a BertForSequenceClassification model from a BertForSequenceClassification model).\n"
     ]
    }
   ],
   "source": [
    "tone_tokenizer, tone_config, tone_model = init_model(\"cardiffnlp/twitter-roberta-base-sentiment-latest\")\n"
   ]
  },
  {
   "cell_type": "code",
   "execution_count": 19,
   "metadata": {},
   "outputs": [
    {
     "data": {
      "text/plain": [
       "{'negative': 0.7235762, 'neutral': 0.22867934, 'positive': 0.04774447}"
      ]
     },
     "execution_count": 19,
     "metadata": {},
     "output_type": "execute_result"
    }
   ],
   "source": [
    "from scipy.special import softmax\n",
    "import numpy as np\n",
    "\n",
    "tone_labels = ['negative', 'neutral', 'positive']\n",
    "\n",
    "def sentiment_analysis(text: str):\n",
    "  encoded_input = tone_tokenizer(text, max_length=512, truncation=True, return_tensors='pt')\n",
    "  output = tone_model(**encoded_input)\n",
    "  scores = output[0][0].detach().numpy()\n",
    "  scores = softmax(scores)\n",
    "\n",
    "  ranking = np.argsort(scores)\n",
    "  ranking = ranking[::-1]\n",
    "\n",
    "  output = {k: 0.0 for k in tone_labels}\n",
    "\n",
    "  for i in range(scores.shape[0]):\n",
    "      k = tone_config.id2label[ranking[i]]\n",
    "      output[k] = scores[ranking[i]]\n",
    "  \n",
    "  return output\n",
    "\n",
    "sentiment_analysis(\"Covid cases are increasing fast!\")"
   ]
  },
  {
   "cell_type": "code",
   "execution_count": 20,
   "metadata": {},
   "outputs": [],
   "source": [
    "for k in tone_labels:\n",
    "    df[k] = 0.0"
   ]
  },
  {
   "cell_type": "code",
   "execution_count": 22,
   "metadata": {},
   "outputs": [
    {
     "name": "stderr",
     "output_type": "stream",
     "text": [
      "100%|██████████| 22514/22514 [21:06<00:00, 17.78it/s]\n"
     ]
    }
   ],
   "source": [
    "for id in tqdm(df.index):\n",
    "    output = sentiment_analysis(df.at[id, 'comment'])\n",
    "    for k in tone_labels:\n",
    "        df.at[id, k] = output[k]"
   ]
  },
  {
   "cell_type": "code",
   "execution_count": 23,
   "metadata": {},
   "outputs": [],
   "source": [
    "df['tone'] = df[tone_labels].idxmax(axis=1)"
   ]
  },
  {
   "cell_type": "code",
   "execution_count": 24,
   "metadata": {},
   "outputs": [
    {
     "name": "stderr",
     "output_type": "stream",
     "text": [
      "/var/folders/lk/lhmn07j501l6rng06tjrl8cm0000gn/T/ipykernel_51574/1617042432.py:1: PerformanceWarning: \n",
      "your performance may suffer as PyTables will pickle object types that it cannot\n",
      "map directly to c-types [inferred_type->mixed,key->block4_values] [items->Index(['classYear', 'country', 'universityName', 'comment', 'review',\n",
      "       'chapter_explanation_update', 'question_update',\n",
      "       'question_explanation_update', 'qc_explanation_update', 'tone'],\n",
      "      dtype='object')]\n",
      "\n",
      "  df.to_hdf('data/comments2.h5', key='df', mode='w')\n"
     ]
    }
   ],
   "source": [
    "df.to_hdf('data/comments2.h5', key='df', mode='w')"
   ]
  },
  {
   "cell_type": "code",
   "execution_count": 28,
   "metadata": {},
   "outputs": [],
   "source": [
    "import matplotlib.pyplot as plt\n",
    "import seaborn as sns\n",
    "\n",
    "sns.set_theme()"
   ]
  },
  {
   "cell_type": "code",
   "execution_count": 29,
   "metadata": {},
   "outputs": [
    {
     "data": {
      "image/png": "[encoded data removed]",
      "text/plain": [
       "<Figure size 640x480 with 1 Axes>"
      ]
     },
     "metadata": {},
     "output_type": "display_data"
    }
   ],
   "source": [
    "fig, ax = plt.subplots()\n",
    "ax = df['tone'].value_counts().plot(kind='bar')\n",
    "plt.xticks(rotation=45, ha='right')\n",
    "plt.show()"
   ]
  },
  {
   "attachments": {},
   "cell_type": "markdown",
   "metadata": {},
   "source": [
    "# Emotion Analysis\n",
    "\n",
    "Checking the emotion of submissions"
   ]
  },
  {
   "cell_type": "code",
   "execution_count": 30,
   "metadata": {},
   "outputs": [],
   "source": [
    "emotion_tokenizer, emotion_config, emotion_model = init_model(\"bhadresh-savani/distilbert-base-uncased-emotion\")\n"
   ]
  },
  {
   "cell_type": "code",
   "execution_count": 31,
   "metadata": {},
   "outputs": [
    {
     "data": {
      "text/plain": [
       "{'sadness': 0.011512356,\n",
       " 'joy': 0.87378865,\n",
       " 'love': 0.0020575337,\n",
       " 'anger': 0.082321994,\n",
       " 'fear': 0.026589949,\n",
       " 'surprise': 0.003729473}"
      ]
     },
     "execution_count": 31,
     "metadata": {},
     "output_type": "execute_result"
    }
   ],
   "source": [
    "from scipy.special import softmax\n",
    "import numpy as np\n",
    "\n",
    "emotion_labels = ['sadness', 'joy', 'love', 'anger', 'fear', 'surprise']\n",
    "\n",
    "def emotion_analysis(text: str):\n",
    "  encoded_input = emotion_tokenizer(text, max_length=512, truncation=True, return_tensors='pt')\n",
    "  output = emotion_model(**encoded_input)\n",
    "  scores = output[0][0].detach().numpy()\n",
    "  scores = softmax(scores)\n",
    "\n",
    "  ranking = np.argsort(scores)\n",
    "  ranking = ranking[::-1]\n",
    "\n",
    "  output = {k: 0.0 for k in emotion_labels}\n",
    "\n",
    "  for i in range(scores.shape[0]):\n",
    "      k = emotion_config.id2label[ranking[i]]\n",
    "      output[k] = scores[ranking[i]]\n",
    "  \n",
    "  return output\n",
    "\n",
    "emotion_analysis(\"Covid cases are increasing fast!\")"
   ]
  },
  {
   "cell_type": "code",
   "execution_count": 32,
   "metadata": {},
   "outputs": [],
   "source": [
    "for k in emotion_labels:\n",
    "    df[k] = 0.0"
   ]
  },
  {
   "cell_type": "code",
   "execution_count": 34,
   "metadata": {},
   "outputs": [
    {
     "name": "stderr",
     "output_type": "stream",
     "text": [
      "100%|██████████| 22514/22514 [09:23<00:00, 39.95it/s]\n"
     ]
    }
   ],
   "source": [
    "for id in tqdm(df.index):\n",
    "    output = emotion_analysis(df.at[id, 'comment'])\n",
    "    for k in emotion_labels:\n",
    "        df.at[id, k] = output[k]"
   ]
  },
  {
   "cell_type": "code",
   "execution_count": 35,
   "metadata": {},
   "outputs": [],
   "source": [
    "df['emotion'] = df[emotion_labels].idxmax(axis=1)"
   ]
  },
  {
   "cell_type": "code",
   "execution_count": 36,
   "metadata": {},
   "outputs": [
    {
     "data": {
      "image/png": "[encoded data removed]",
      "text/plain": [
       "<Figure size 640x480 with 1 Axes>"
      ]
     },
     "metadata": {},
     "output_type": "display_data"
    }
   ],
   "source": [
    "fig, ax = plt.subplots()\n",
    "ax = df['emotion'].value_counts().plot(kind='bar')\n",
    "\n",
    "plt.show()"
   ]
  },
  {
   "cell_type": "code",
   "execution_count": 37,
   "metadata": {},
   "outputs": [
    {
     "name": "stderr",
     "output_type": "stream",
     "text": [
      "/var/folders/lk/lhmn07j501l6rng06tjrl8cm0000gn/T/ipykernel_51574/2837991512.py:1: PerformanceWarning: \n",
      "your performance may suffer as PyTables will pickle object types that it cannot\n",
      "map directly to c-types [inferred_type->mixed,key->block4_values] [items->Index(['classYear', 'country', 'universityName', 'comment', 'review',\n",
      "       'chapter_explanation_update', 'question_update',\n",
      "       'question_explanation_update', 'qc_explanation_update', 'tone',\n",
      "       'emotion'],\n",
      "      dtype='object')]\n",
      "\n",
      "  df.to_hdf('data/comments3.h5', key='df', mode='w')\n"
     ]
    }
   ],
   "source": [
    "df.to_hdf('data/comments3.h5', key='df', mode='w')\n",
    "df.to_csv('data/comments3.csv', encoding='utf-8-sig')"
   ]
  },
  {
   "attachments": {},
   "cell_type": "markdown",
   "metadata": {},
   "source": [
    "# Zero-shot classification\n",
    "\n",
    "Classification of submissions based on certain categories"
   ]
  },
  {
   "cell_type": "code",
   "execution_count": 38,
   "metadata": {},
   "outputs": [],
   "source": [
    "from transformers import pipeline\n",
    "\n",
    "zs_classifier = pipeline(\"zero-shot-classification\", model=\"facebook/bart-large-mnli\")"
   ]
  },
  {
   "cell_type": "code",
   "execution_count": 39,
   "metadata": {},
   "outputs": [
    {
     "data": {
      "text/plain": [
       "{'educational': 0.03408487141132355,\n",
       " 'giving feedback': 0.3510622978210449,\n",
       " 'asking a question': 0.23148050904273987,\n",
       " 'insulting': 0.04857322946190834,\n",
       " 'supporting': 0.3347991406917572}"
      ]
     },
     "execution_count": 39,
     "metadata": {},
     "output_type": "execute_result"
    }
   ],
   "source": [
    "theme_labels = ['educational', 'giving feedback', 'asking a question', 'insulting', 'supporting']\n",
    "\n",
    "def theme_analysis(text: str, multi_label=False):\n",
    "  res = zs_classifier(text, theme_labels, multi_label=multi_label)\n",
    "\n",
    "  output = {k: 0.0 for k in theme_labels}\n",
    "\n",
    "  for k, score in zip(res['labels'], res['scores']):\n",
    "      output[k] = score\n",
    "  \n",
    "  return output\n",
    "\n",
    "theme_analysis(\"Covid cases are increasing fast!\")"
   ]
  },
  {
   "cell_type": "code",
   "execution_count": 40,
   "metadata": {},
   "outputs": [],
   "source": [
    "for k in theme_labels:\n",
    "    df[k] = 0.0"
   ]
  },
  {
   "cell_type": "code",
   "execution_count": 41,
   "metadata": {},
   "outputs": [
    {
     "name": "stderr",
     "output_type": "stream",
     "text": [
      "100%|██████████| 22514/22514 [5:54:48<00:00,  1.06it/s]    \n"
     ]
    }
   ],
   "source": [
    "for id in tqdm(df.index):\n",
    "    selftext = df.at[id, 'comment']\n",
    "    if len(selftext) == 0:\n",
    "        continue\n",
    "    output = theme_analysis(selftext)\n",
    "    for k in theme_labels:\n",
    "        df.at[id, k] = output[k]"
   ]
  },
  {
   "cell_type": "code",
   "execution_count": 42,
   "metadata": {},
   "outputs": [],
   "source": [
    "df['theme'] = df[theme_labels].idxmax(axis=1)"
   ]
  },
  {
   "cell_type": "code",
   "execution_count": 43,
   "metadata": {},
   "outputs": [
    {
     "data": {
      "image/png": "[encoded data removed]",
      "text/plain": [
       "<Figure size 640x480 with 1 Axes>"
      ]
     },
     "metadata": {},
     "output_type": "display_data"
    }
   ],
   "source": [
    "fig, ax = plt.subplots()\n",
    "ax = df['theme'].value_counts().plot(kind='bar')\n",
    "\n",
    "plt.show()"
   ]
  },
  {
   "cell_type": "code",
   "execution_count": 44,
   "metadata": {},
   "outputs": [
    {
     "name": "stderr",
     "output_type": "stream",
     "text": [
      "/var/folders/lk/lhmn07j501l6rng06tjrl8cm0000gn/T/ipykernel_51574/1332472547.py:1: PerformanceWarning: \n",
      "your performance may suffer as PyTables will pickle object types that it cannot\n",
      "map directly to c-types [inferred_type->mixed,key->block4_values] [items->Index(['classYear', 'country', 'universityName', 'comment', 'review',\n",
      "       'chapter_explanation_update', 'question_update',\n",
      "       'question_explanation_update', 'qc_explanation_update', 'tone',\n",
      "       'emotion', 'theme'],\n",
      "      dtype='object')]\n",
      "\n",
      "  df.to_hdf('data/comments4.h5', key='df', mode='w')\n"
     ]
    }
   ],
   "source": [
    "df.to_hdf('data/comments4.h5', key='df', mode='w')\n",
    "df.to_csv('data/comments4.csv', encoding='utf-8-sig')"
   ]
  },
  {
   "attachments": {},
   "cell_type": "markdown",
   "metadata": {},
   "source": [
    "# Natural Language Inference (NLI)\n",
    "\n",
    "In NLI the model determines the relationship between two given texts. Concretely, the model takes a premise and a hypothesis and returns a class that can either be:\n",
    "\n",
    "- **entailment**, which means the hypothesis is true.\n",
    "- **contraction**, which means the hypothesis is false.\n",
    "- **neutral**, which means there's no relation between the hypothesis and the premise.\n",
    "\n",
    "### Multi-Genre NLI (MNLI)\n",
    "\n",
    "```\n",
    "Example 1:\n",
    "    Premise: A man inspects the uniform of a figure in some East Asian country.\n",
    "    Hypothesis: The man is sleeping.\n",
    "    Label: Contradiction\n",
    "\n",
    "Example 2:\n",
    "    Premise: Soccer game with multiple males playing.\n",
    "    Hypothesis: Some men are playing a sport.\n",
    "    Label: Entailment\n",
    "```"
   ]
  },
  {
   "cell_type": "code",
   "execution_count": null,
   "metadata": {},
   "outputs": [],
   "source": []
  }
 ],
 "metadata": {
  "kernelspec": {
   "display_name": "fusion_analysis-xH46poxW",
   "language": "python",
   "name": "python3"
  },
  "language_info": {
   "codemirror_mode": {
    "name": "ipython",
    "version": 3
   },
   "file_extension": ".py",
   "mimetype": "text/x-python",
   "name": "python",
   "nbconvert_exporter": "python",
   "pygments_lexer": "ipython3",
   "version": "3.11.3"
  },
  "orig_nbformat": 4
 },
 "nbformat": 4,
 "nbformat_minor": 2
}
