{
 "cells": [
  {
   "cell_type": "code",
   "execution_count": 26,
   "metadata": {},
   "outputs": [],
   "source": [
    "import pandas as pd\n",
    "\n",
    "df = pd.read_hdf('data/reddit_clean.h5', key='df')"
   ]
  },
  {
   "cell_type": "code",
   "execution_count": 27,
   "metadata": {},
   "outputs": [],
   "source": [
    "import re\n",
    "\n",
    "# Usual age pattern such as \"3 years old\", \"1-year- and 2-month-old\"\n",
    "age_pattern = r\"(((?P<year>[0-9]+\\.?[0-9]?([ /\\._\\-\\‐]and[ /\\._\\-\\‐](((a)|(one))[ /\\._\\-\\‐])?half)?)[ /\\._\\-\\‐]*((y((ear)|r)?)s?)([ /\\._\\-\\‐]*and[ /\\._\\-\\‐])?)|((?P<month>[0-9]+\\.?[0-9]?([ /\\._\\-\\‐]and[ /\\._\\-\\‐](((a)|(one))[ /\\._\\-\\‐])?half)?)[ /\\._\\-\\‐]*((m(onth)?)s?)([ /\\._\\-\\‐]*and[ /\\._\\-\\‐])?)|((?P<week>[0-9]+\\.?[0-9]?([ /\\._\\-\\‐]and[ /\\._\\-\\‐](((a)|(one))[ /\\._\\-\\‐])?half)?)[ /\\._\\-\\‐]*((w(eek)?)s?)([ /\\._\\-\\‐]*and[ /\\._\\-\\‐])?)|((?P<day>[0-9]+\\.?[0-9]?([ /\\._\\-\\‐]and[ /\\._\\-\\‐](((a)|(one))[ /\\._\\-\\‐])?half)?)[ /\\._\\-\\‐]*((d(ay)?)s?)([ /\\._\\-\\‐]*and[ /\\._\\-\\‐])?)|((?P<hour>[0-9]+\\.?[0-9]?([ /\\._\\-\\‐]and[ /\\._\\-\\‐](((a)|(one))[ /\\._\\-\\‐])?half)?)[ /\\._\\-\\‐]*((h(our)?)s?)))+\"\n",
    "age_pattern1 = re.compile(age_pattern + \"[ /\\._\\-\\‐](o(ld)?)[^a-z]\")\n",
    "# Age pattern using words, such as \"nine years old\", \"thirteen years old\"\n",
    "word_age_pattern = r\"(((?P<year>((twenty)|(thirty)|(forty)|(fifty)|(sixty)|(seventy)|(eighty)|(ninety))?[ /\\._\\-\\‐]*[a-z]*([ /\\._\\-\\‐]and[ /\\._\\-\\‐](((a)|(one))[ /\\._\\-\\‐])?half)?)[ /\\._\\-\\‐]((y((ear)|r)?)s?)([ /\\._\\-\\‐]*and[ /\\._\\-\\‐])?)|((?P<month>((twenty)|(thirty)|(fifty)|(sixty)|(seventy)|(eighty)|(ninety))?[ /\\._\\-\\‐]*[a-z]*([ /\\._\\-\\‐]and[ /\\._\\-\\‐](((a)|(one))[ /\\._\\-\\‐])?half)?)[ /\\._\\-\\‐]((m(onth)?)s?)([ /\\._\\-\\‐]*and[ /\\._\\-\\‐])?)|((?P<week>((twenty)|(thirty)|(forty)|(fifty)|(sixty)|(seventy)|(eighty)|(ninety))?[ /\\._\\-\\‐]*[a-z]*([ /\\._\\-\\‐]and[ /\\._\\-\\‐](((a)|(one))[ /\\._\\-\\‐])?half)?)[ /\\._\\-\\‐]((w(eek)?)s?)([ /\\._\\-\\‐]*and[ /\\._\\-\\‐])?)|((?P<day>((twenty)|(thirty)|(forty)|(fifty)|(sixty)|(seventy)|(eighty)|(ninety))?[ /\\._\\-\\‐]*[a-z]*([ /\\._\\-\\‐]and[ /\\._\\-\\‐](((a)|(one))[ /\\._\\-\\‐])?half)?)[ /\\._\\-\\‐]((d(ay)?)s?)([ /\\._\\-\\‐]*and[ /\\._\\-\\‐])?)|((?P<hour>((twenty)|(thirty)|(forty)|(fifty)|(sixty)|(seventy)|(eighty)|(ninety))?[ /\\._\\-\\‐]*[a-z]*([ /\\._\\-\\‐]and[ /\\._\\-\\‐](((a)|(one))[ /\\._\\-\\‐])?half)?)[ /\\._\\-\\‐]((h(our)?)s?)))+\"\n",
    "word_age_pattern1 = re.compile(word_age_pattern + \"[ /\\._\\-\\‐](o(ld)?)[^a-z]\")\n",
    "# \"Male aged 51 years\"\n",
    "age_pattern2 = re.compile(r\"(^|[^a-z])((male)|((gentle)?(police)?man)|(boy)|(female)|(lady)|(girl)|(housewife)|((police)?woman)|(.*gravida)|(infant)|(baby)|(child)|(patient)),? aged \" + age_pattern + r\"[^a-z]\")\n",
    "# \"A boy, aged 8\"\n",
    "age_pattern3 = re.compile(r\"(^|[^a-z])((male)|((gentle)?(police)?man)|(boy)|(female)|(lady)|(girl)|(housewife)|((police)?woman)|(.*gravida)|(infant)|(baby)|(child)|(patient)),? aged (?P<year>[0-9]+\\.?[0-9]?)[^a-z]\")\n",
    "# \"Male aged forty six years\"\n",
    "word_age_pattern2 = re.compile(r\"(^|[^a-z])((male)|((gentle)?(police)?man)|(boy)|(female)|(lady)|(girl)|(housewife)|((police)?woman)|(.*gravida)|(infant)|(baby)|(child)|(patient)),? aged \" + word_age_pattern + r\"[^a-z]\")\n",
    "# \"Boy aged eight\"\n",
    "word_age_pattern3 = re.compile(r\"(^|[^a-z])((male)|((gentle)?(police)?man)|(boy)|(female)|(lady)|(girl)|(housewife)|((police)?woman)|(.*gravida)|(infant)|(baby)|(child)|(patient)),? aged (?P<year>((twenty)|(thirty)|(forty)|(fifty)|(sixty)|(seventy)|(eighty)|(ninety))?[ /\\._\\-\\‐]*[a-z]*([ /\\._\\-\\‐]and[ /\\._\\-\\‐](((a)|(one))[ /\\._\\-\\‐])?half)?)[^a-z]\")\n",
    "# Detect words indicating male.\n",
    "male_pattern = re.compile(r\"(^|[^a-z])((he)|(male)|((gentle)?(police)?man)|(boy)|(prostat[a-z]*)|(mr))[^a-z]\")\n",
    "# Detect words indication female.\n",
    "female_pattern = re.compile(r\"(^|[^a-z])((she)|(female)|(lady)|(girl)|(housewife)|((police)?woman)|([a-z]*gravida)|(pregnan[a-z]*)|((g[0-9])|(p[0-9]))|(mentrua[a-z]*)|(uteri[a-z]*)|(mrs)|(ms))[^a-z]\")\n",
    "# Detect words indicating groups of males. (If group, filter)\n",
    "males_pattern = re.compile(r\"(^|[^a-z])((males)|((gentle)?men)|(boys))[^a-z]\")\n",
    "# Detect words indicating groups of females. (If group, filter)\n",
    "females_pattern = re.compile(r\"(^|[^a-z])((females)|(ladies)|(girls)|(women))[^a-z]\")\n",
    "# \"Male in his (early/late) 70s\"\n",
    "age_pattern4 = re.compile(r\"(^|[^a-z])((male)|((gentle)?(police)?man)|(boy)|(female)|(lady)|(girl)|(housewife)|((police)?woman)|(.*gravida)|(infant)|(baby)|(child)|(patient)),? in ((his)|(her)) (?P<time>((early)|(late)) )?(?P<year>[0-9]0s)[^a-z]\")\n",
    "# \"Male in his (early/late) twenties\"\n",
    "word_age_pattern4 = re.compile(r\"(^|[^a-z])((male)|((gentle)?(police)?man)|(boy)|(female)|(lady)|(girl)|(housewife)|((police)?woman)|(.*gravida)|(infant)|(baby)|(child)|(patient)),? in ((his)|(her)) (?P<time>((early)|(late)) )?(?P<year>((twenties)|(thirties)|(fourties)|(fifties)|(sixties)|(seventies)|(eighties)|(nineties)))[^a-z]\")"
   ]
  },
  {
   "cell_type": "code",
   "execution_count": 28,
   "metadata": {},
   "outputs": [
    {
     "data": {
      "text/plain": [
       "[[3.0, 'year']]"
      ]
     },
     "execution_count": 28,
     "metadata": {},
     "output_type": "execute_result"
    }
   ],
   "source": [
    "from word2number import w2n\n",
    "\n",
    "\"\"\"\n",
    "Extract and return age of the patient.\n",
    "Input:\n",
    "    text: patient note candidate\n",
    "Output:\n",
    "    list of ages of different units, each is a tuple (number, unit).\n",
    "    e.g. [[1.0, \"year\"], [\"3.0\", \"month\"]]\n",
    "    Note that age is a float since there could be input \"one and a half year\" with output '[[1.5, \"year\"]]'\n",
    "\"\"\"\n",
    "def age_extract(text):\n",
    "    results = []\n",
    "    age = age_pattern1.search(text)\n",
    "    if age:\n",
    "        for unit in ['year', 'month', 'week', 'day', 'hour']:\n",
    "            if age.group(unit):\n",
    "                if \"half\" in age.group(unit):\n",
    "                    temp = re.search(r\"[0-9]+\\.?[0-9]?\", age.group(unit)).group()\n",
    "                    results.append([float(temp) + 0.5, unit])\n",
    "                else:\n",
    "                    results.append([float(age.group(unit)), unit])\n",
    "    word_age = word_age_pattern1.search(text.replace('fourty', 'forty').replace('ninty', 'ninety'))\n",
    "    if word_age and len(results) == 0:\n",
    "        for unit in ['year', 'month', 'week', 'day', 'hour']:\n",
    "            if word_age.group(unit):\n",
    "                try:\n",
    "                    results.append([float(w2n.word_to_num(word_age.group(unit))), unit])\n",
    "                except Exception as e:\n",
    "                    continue\n",
    "                if \"half\" in word_age.group(unit):\n",
    "                    results[-1][0] += 0.5\n",
    "\n",
    "    age = age_pattern2.search(text)\n",
    "    if age and len(results) == 0:\n",
    "        for unit in ['year', 'month', 'week', 'day', 'hour']:\n",
    "            if age.group(unit):\n",
    "                if \"half\" in age.group(unit):\n",
    "                    temp = re.search(r\"[0-9]+\\.?[0-9]?\", age.group(unit)).group()\n",
    "                    results.append([float(temp) + 0.5, unit])\n",
    "                else:\n",
    "                    results.append([float(age.group(unit)), unit])\n",
    "    word_age = word_age_pattern2.search(text.replace('fourty', 'forty').replace('ninty', 'ninety'))\n",
    "    if word_age and len(results) == 0:\n",
    "        for unit in ['year', 'month', 'week', 'day', 'hour']:\n",
    "            if word_age.group(unit):\n",
    "                try:\n",
    "                    results.append([float(w2n.word_to_num(word_age.group(unit))), unit])\n",
    "                except Exception as e:\n",
    "                    continue\n",
    "                if \"half\" in word_age.group(unit):\n",
    "                    results[-1][0] += 0.5\n",
    "\n",
    "    age = age_pattern3.search(text)\n",
    "    if age and len(results) == 0:\n",
    "        for unit in ['year']:\n",
    "            if age.group(unit):\n",
    "                if \"half\" in age.group(unit):\n",
    "                    temp = re.search(r\"[0-9]+\\.?[0-9]?\", age.group(unit)).group()\n",
    "                    results.append([float(temp) + 0.5, unit])\n",
    "                else:\n",
    "                    results.append([float(age.group(unit)), unit])\n",
    "    word_age = word_age_pattern3.search(text.replace('fourty', 'forty').replace('ninty', 'ninety'))\n",
    "    if word_age and len(results) == 0:\n",
    "        for unit in ['year']:\n",
    "            if word_age.group(unit):\n",
    "                try:\n",
    "                    results.append([float(w2n.word_to_num(word_age.group(unit))), unit])\n",
    "                except Exception as e:\n",
    "                    continue\n",
    "                if \"half\" in word_age.group(unit):\n",
    "                    results[-1][0] += 0.5\n",
    "\n",
    "    age = age_pattern4.search(text)\n",
    "    if age and len(results) == 0:\n",
    "        for unit in ['year']:\n",
    "            if age.group(unit):\n",
    "                results.append([float(age.group(unit)[:-1]), unit])\n",
    "                if age.group('time'):\n",
    "                    if 'early' in age.group('time'):\n",
    "                        results[-1][0] += 2.5\n",
    "                    else:\n",
    "                        results[-1][0] += 7.5\n",
    "                else:\n",
    "                    results[-1][0] += 5\n",
    "    word_age = word_age_pattern4.search(text.replace('fourties', 'forties').replace('ninties', 'nineties'))\n",
    "    if word_age and len(results) == 0:\n",
    "        for unit in ['year']:\n",
    "            if word_age.group(unit):\n",
    "                try:\n",
    "                    results.append([float(w2n.word_to_num(word_age.group(unit).replace('ties', 'ty'))), unit])\n",
    "                except Exception as e:\n",
    "                    continue\n",
    "                if word_age.group('time'):\n",
    "                    if 'early' in word_age.group('time'):\n",
    "                        results[-1][0] += 2.5\n",
    "                    else:\n",
    "                        results[-1][0] += 7.5\n",
    "                else:\n",
    "                    results[-1][0] += 5\n",
    "    return results\n",
    "\n",
    "age_extract(\"boy 3 years old \")"
   ]
  },
  {
   "cell_type": "code",
   "execution_count": 29,
   "metadata": {},
   "outputs": [
    {
     "data": {
      "text/plain": [
       "'M'"
      ]
     },
     "execution_count": 29,
     "metadata": {},
     "output_type": "execute_result"
    }
   ],
   "source": [
    "\"\"\"\n",
    "Extract gender. Note when both male and female, or males / females are detected, the candidate is filtered.\n",
    "Input:\n",
    "    patient note candidate\n",
    "Output:\n",
    "    \"M\" or \"F\"\n",
    "\"\"\"\n",
    "def gender_extract(text):\n",
    "    male_match = male_pattern.search(text)\n",
    "    males_match = males_pattern.search(text)\n",
    "    female_match = female_pattern.search(text)\n",
    "    females_match = females_pattern.search(text)\n",
    "    # If both male and female, or males / females are detected, filter the candidate\n",
    "    if (male_match or males_match) and (female_match or females_match):\n",
    "        male_span = male_match.span() if (not males_match) or (male_match and males_match and males_match.span()[0] > male_match.span()[0]) else males_match.span()\n",
    "        female_span = female_match.span() if (not females_match) or (female_match and females_match and females_match.span()[0] > female_match.span()[0]) else females_match.span()\n",
    "        if min(abs(female_span[0] - male_span[1]), abs(female_span[1] - male_span[0])) < 20:\n",
    "            return None\n",
    "\n",
    "    if male_pattern.search(text):\n",
    "        return \"M\"\n",
    "    else:\n",
    "        if female_pattern.search(text):\n",
    "            return \"F\"\n",
    "        else:\n",
    "            return None\n",
    "\n",
    "gender_extract(\"boy 3 years old \")"
   ]
  },
  {
   "cell_type": "code",
   "execution_count": 30,
   "metadata": {},
   "outputs": [
    {
     "data": {
      "text/plain": [
       "([[3.0, 'year']], 'M')"
      ]
     },
     "execution_count": 30,
     "metadata": {},
     "output_type": "execute_result"
    }
   ],
   "source": [
    "\"\"\"\n",
    "Extract and return age and gender. \n",
    "Input:\n",
    "    Patient note candidate.\n",
    "Output:\n",
    "    See functions above.\n",
    "\"\"\"\n",
    "def demo_filter(text):\n",
    "    text = text.strip().lower()\n",
    "    texts = text.split('. ')\n",
    "    text = texts[0] + '. '\n",
    "    for i in range(0, len(texts) - 1):\n",
    "        if len(texts[i].strip().split()) < 10:\n",
    "            text += texts[i + 1] + '. '\n",
    "        else:\n",
    "            break\n",
    "    age = age_extract(text)\n",
    "    gender = gender_extract(text)\n",
    "    if (not age) or (not gender):\n",
    "        return None\n",
    "    else:\n",
    "        return (age, gender)\n",
    "\n",
    "demo_filter(\"Boy 3 years old \")"
   ]
  },
  {
   "cell_type": "code",
   "execution_count": 31,
   "metadata": {},
   "outputs": [],
   "source": [
    "df['gender'] = df['selftext'].apply(lambda x: gender_extract(x.lower()))"
   ]
  },
  {
   "cell_type": "code",
   "execution_count": 32,
   "metadata": {},
   "outputs": [],
   "source": [
    "df['age'] = df['selftext'].apply(lambda x: age_extract(x.lower()))\n",
    "df['age'] = df['age'].apply(lambda x: 0 if x == [] else int(x[0][0])).astype('int64')"
   ]
  },
  {
   "cell_type": "code",
   "execution_count": 33,
   "metadata": {},
   "outputs": [
    {
     "data": {
      "text/plain": [
       "count    60.000000\n",
       "mean     32.100000\n",
       "std      18.945685\n",
       "min       1.000000\n",
       "25%      21.000000\n",
       "50%      27.000000\n",
       "75%      43.000000\n",
       "max      85.000000\n",
       "Name: age, dtype: float64"
      ]
     },
     "execution_count": 33,
     "metadata": {},
     "output_type": "execute_result"
    }
   ],
   "source": [
    "df.loc[df['age'] != 0, 'age'].describe()"
   ]
  },
  {
   "cell_type": "code",
   "execution_count": 34,
   "metadata": {},
   "outputs": [
    {
     "data": {
      "text/plain": [
       "gender\n",
       "M    173\n",
       "F     35\n",
       "Name: count, dtype: int64"
      ]
     },
     "execution_count": 34,
     "metadata": {},
     "output_type": "execute_result"
    }
   ],
   "source": [
    "df['gender'].value_counts()"
   ]
  },
  {
   "cell_type": "code",
   "execution_count": 35,
   "metadata": {},
   "outputs": [
    {
     "data": {
      "text/plain": [
       "all_awardings            object\n",
       "author                   object\n",
       "created_utc      datetime64[ns]\n",
       "downs                     int64\n",
       "id                       object\n",
       "likes                    object\n",
       "media                    object\n",
       "media_embed              object\n",
       "permalink                object\n",
       "title                    object\n",
       "selftext                 object\n",
       "ups                       int64\n",
       "upvote_ratio            float64\n",
       "view_count               object\n",
       "text                     object\n",
       "gender                   object\n",
       "age                       int64\n",
       "dtype: object"
      ]
     },
     "execution_count": 35,
     "metadata": {},
     "output_type": "execute_result"
    }
   ],
   "source": [
    "df.dtypes"
   ]
  },
  {
   "cell_type": "code",
   "execution_count": 36,
   "metadata": {},
   "outputs": [
    {
     "name": "stderr",
     "output_type": "stream",
     "text": [
      "/var/folders/lk/lhmn07j501l6rng06tjrl8cm0000gn/T/ipykernel_32287/4286792831.py:1: PerformanceWarning: \n",
      "your performance may suffer as PyTables will pickle object types that it cannot\n",
      "map directly to c-types [inferred_type->mixed,key->block3_values] [items->Index(['all_awardings', 'author', 'id', 'likes', 'media', 'media_embed',\n",
      "       'permalink', 'title', 'selftext', 'view_count', 'text', 'gender'],\n",
      "      dtype='object')]\n",
      "\n",
      "  df.to_hdf('data/reddit_demo.h5', key='df', mode='w')\n"
     ]
    }
   ],
   "source": [
    "df.to_hdf('data/reddit_demo.h5', key='df', mode='w')\n",
    "df.to_csv('data/reddit_demo.csv', encoding='utf-8-sig')"
   ]
  },
  {
   "cell_type": "code",
   "execution_count": null,
   "metadata": {},
   "outputs": [],
   "source": []
  }
 ],
 "metadata": {
  "kernelspec": {
   "display_name": "fusion_analysis-xH46poxW",
   "language": "python",
   "name": "python3"
  },
  "language_info": {
   "codemirror_mode": {
    "name": "ipython",
    "version": 3
   },
   "file_extension": ".py",
   "mimetype": "text/x-python",
   "name": "python",
   "nbconvert_exporter": "python",
   "pygments_lexer": "ipython3",
   "version": "3.11.3"
  },
  "orig_nbformat": 4
 },
 "nbformat": 4,
 "nbformat_minor": 2
}
