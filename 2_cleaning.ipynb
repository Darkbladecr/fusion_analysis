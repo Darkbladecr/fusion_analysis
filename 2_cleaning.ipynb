{
 "cells": [
  {
   "attachments": {},
   "cell_type": "markdown",
   "metadata": {},
   "source": [
    "## Processing DataFrame"
   ]
  },
  {
   "cell_type": "code",
   "execution_count": 1,
   "metadata": {},
   "outputs": [],
   "source": [
    "import pandas as pd\n",
    "\n",
    "df = pd.read_hdf('data/reddit_raw.h5', key='df')"
   ]
  },
  {
   "cell_type": "code",
   "execution_count": 2,
   "metadata": {},
   "outputs": [
    {
     "name": "stdout",
     "output_type": "stream",
     "text": [
      "(994, 14)\n"
     ]
    },
    {
     "data": {
      "text/html": [
       "<div>\n",
       "<style scoped>\n",
       "    .dataframe tbody tr th:only-of-type {\n",
       "        vertical-align: middle;\n",
       "    }\n",
       "\n",
       "    .dataframe tbody tr th {\n",
       "        vertical-align: top;\n",
       "    }\n",
       "\n",
       "    .dataframe thead th {\n",
       "        text-align: right;\n",
       "    }\n",
       "</style>\n",
       "<table border=\"1\" class=\"dataframe\">\n",
       "  <thead>\n",
       "    <tr style=\"text-align: right;\">\n",
       "      <th></th>\n",
       "      <th>all_awardings</th>\n",
       "      <th>author</th>\n",
       "      <th>created_utc</th>\n",
       "      <th>downs</th>\n",
       "      <th>id</th>\n",
       "      <th>likes</th>\n",
       "      <th>media</th>\n",
       "      <th>media_embed</th>\n",
       "      <th>permalink</th>\n",
       "      <th>title</th>\n",
       "      <th>selftext</th>\n",
       "      <th>ups</th>\n",
       "      <th>upvote_ratio</th>\n",
       "      <th>view_count</th>\n",
       "    </tr>\n",
       "  </thead>\n",
       "  <tbody>\n",
       "    <tr>\n",
       "      <th>0</th>\n",
       "      <td>[]</td>\n",
       "      <td>BloodRedPlanet</td>\n",
       "      <td>1.685557e+09</td>\n",
       "      <td>0</td>\n",
       "      <td>13wtu2w</td>\n",
       "      <td>None</td>\n",
       "      <td>None</td>\n",
       "      <td>{}</td>\n",
       "      <td>/r/spinalfusion/comments/13wtu2w/frontal_tempo...</td>\n",
       "      <td>frontal temporal headaches, right side 8 weeks...</td>\n",
       "      <td>Hello,\\n\\nI'm getting headaches with numbness/...</td>\n",
       "      <td>1</td>\n",
       "      <td>1.0</td>\n",
       "      <td>None</td>\n",
       "    </tr>\n",
       "    <tr>\n",
       "      <th>1</th>\n",
       "      <td>[]</td>\n",
       "      <td>engacad</td>\n",
       "      <td>1.685557e+09</td>\n",
       "      <td>0</td>\n",
       "      <td>13wtla9</td>\n",
       "      <td>None</td>\n",
       "      <td>None</td>\n",
       "      <td>{}</td>\n",
       "      <td>/r/spinalfusion/comments/13wtla9/transforamina...</td>\n",
       "      <td>Transforaminal diagnostic nerve root block rec...</td>\n",
       "      <td>I have an appointment for \"transforaminal\" Cer...</td>\n",
       "      <td>1</td>\n",
       "      <td>1.0</td>\n",
       "      <td>None</td>\n",
       "    </tr>\n",
       "    <tr>\n",
       "      <th>2</th>\n",
       "      <td>[]</td>\n",
       "      <td>motorboaters0b</td>\n",
       "      <td>1.685556e+09</td>\n",
       "      <td>0</td>\n",
       "      <td>13wtgpv</td>\n",
       "      <td>None</td>\n",
       "      <td>None</td>\n",
       "      <td>{}</td>\n",
       "      <td>/r/spinalfusion/comments/13wtgpv/just_got_told...</td>\n",
       "      <td>Just got told I need l4 and l5 360 fusion. I h...</td>\n",
       "      <td>I can add images if needed but if anyone could...</td>\n",
       "      <td>1</td>\n",
       "      <td>1.0</td>\n",
       "      <td>None</td>\n",
       "    </tr>\n",
       "  </tbody>\n",
       "</table>\n",
       "</div>"
      ],
      "text/plain": [
       "  all_awardings          author   created_utc  downs       id likes media  \\\n",
       "0            []  BloodRedPlanet  1.685557e+09      0  13wtu2w  None  None   \n",
       "1            []         engacad  1.685557e+09      0  13wtla9  None  None   \n",
       "2            []  motorboaters0b  1.685556e+09      0  13wtgpv  None  None   \n",
       "\n",
       "  media_embed                                          permalink  \\\n",
       "0          {}  /r/spinalfusion/comments/13wtu2w/frontal_tempo...   \n",
       "1          {}  /r/spinalfusion/comments/13wtla9/transforamina...   \n",
       "2          {}  /r/spinalfusion/comments/13wtgpv/just_got_told...   \n",
       "\n",
       "                                               title  \\\n",
       "0  frontal temporal headaches, right side 8 weeks...   \n",
       "1  Transforaminal diagnostic nerve root block rec...   \n",
       "2  Just got told I need l4 and l5 360 fusion. I h...   \n",
       "\n",
       "                                            selftext  ups  upvote_ratio  \\\n",
       "0  Hello,\\n\\nI'm getting headaches with numbness/...    1           1.0   \n",
       "1  I have an appointment for \"transforaminal\" Cer...    1           1.0   \n",
       "2  I can add images if needed but if anyone could...    1           1.0   \n",
       "\n",
       "  view_count  \n",
       "0       None  \n",
       "1       None  \n",
       "2       None  "
      ]
     },
     "execution_count": 2,
     "metadata": {},
     "output_type": "execute_result"
    }
   ],
   "source": [
    "print(df.shape)\n",
    "df.head(3)"
   ]
  },
  {
   "cell_type": "code",
   "execution_count": 3,
   "metadata": {},
   "outputs": [],
   "source": [
    "df['created_utc'] = df['created_utc'].apply(lambda x: pd.to_datetime(x, unit='s'))"
   ]
  },
  {
   "cell_type": "code",
   "execution_count": 4,
   "metadata": {},
   "outputs": [
    {
     "data": {
      "text/plain": [
       "'Date range of posts: 2022-10-16 23:48:25 to 2023-05-31 18:22:08'"
      ]
     },
     "execution_count": 4,
     "metadata": {},
     "output_type": "execute_result"
    }
   ],
   "source": [
    "f\"Date range of posts: {df.iat[-1, 2]} to {df.iat[0, 2]}\""
   ]
  },
  {
   "cell_type": "code",
   "execution_count": 12,
   "metadata": {},
   "outputs": [],
   "source": [
    "df['selftext'] = df['selftext'].fillna('')"
   ]
  },
  {
   "cell_type": "code",
   "execution_count": 13,
   "metadata": {},
   "outputs": [],
   "source": [
    "df['text'] = df['title'] + '\\n' + df['selftext']"
   ]
  },
  {
   "cell_type": "code",
   "execution_count": 14,
   "metadata": {},
   "outputs": [
    {
     "name": "stderr",
     "output_type": "stream",
     "text": [
      "/var/folders/lk/lhmn07j501l6rng06tjrl8cm0000gn/T/ipykernel_32120/4036877396.py:1: PerformanceWarning: \n",
      "your performance may suffer as PyTables will pickle object types that it cannot\n",
      "map directly to c-types [inferred_type->mixed,key->block3_values] [items->Index(['all_awardings', 'author', 'id', 'likes', 'media', 'media_embed',\n",
      "       'permalink', 'title', 'selftext', 'view_count', 'text'],\n",
      "      dtype='object')]\n",
      "\n",
      "  df.to_hdf('data/reddit_clean.h5', key='df', mode='w')\n"
     ]
    }
   ],
   "source": [
    "df.to_hdf('data/reddit_clean.h5', key='df', mode='w')\n",
    "df.to_csv('data/reddit_clean.csv', encoding='utf-8-sig')"
   ]
  },
  {
   "cell_type": "code",
   "execution_count": null,
   "metadata": {},
   "outputs": [],
   "source": []
  }
 ],
 "metadata": {
  "kernelspec": {
   "display_name": "fusion_analysis-xH46poxW",
   "language": "python",
   "name": "python3"
  },
  "language_info": {
   "codemirror_mode": {
    "name": "ipython",
    "version": 3
   },
   "file_extension": ".py",
   "mimetype": "text/x-python",
   "name": "python",
   "nbconvert_exporter": "python",
   "pygments_lexer": "ipython3",
   "version": "3.11.5"
  },
  "orig_nbformat": 4
 },
 "nbformat": 4,
 "nbformat_minor": 2
}
